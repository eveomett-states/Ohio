{
 "cells": [
  {
   "cell_type": "code",
   "execution_count": 1,
   "metadata": {},
   "outputs": [],
   "source": [
    "import pandas as pd\n",
    "import geopandas as gpd\n",
    "import maup\n",
    "import time\n",
    "from maup import smart_repair\n",
    "from gerrychain import Graph\n",
    "\n",
    "maup.progress.enabled = True"
   ]
  },
  {
   "cell_type": "code",
   "execution_count": 2,
   "metadata": {},
   "outputs": [],
   "source": [
    "import warnings\n",
    "warnings.filterwarnings(\"ignore\")"
   ]
  },
  {
   "cell_type": "code",
   "execution_count": 3,
   "metadata": {},
   "outputs": [],
   "source": [
    "# state = Ohio\n",
    "state_ab = \"oh\""
   ]
  },
  {
   "cell_type": "markdown",
   "metadata": {},
   "source": [
    "## Data\n",
    "1. Download all the data in directory \"oh_data\"\n",
    "3. Extract them all"
   ]
  },
  {
   "cell_type": "code",
   "execution_count": 5,
   "metadata": {},
   "outputs": [],
   "source": [
    "data_folder = state_ab + \"_data/\"\n",
    "population1_data = \"./{}{}_pl2020_b/{}_pl2020_p1_b.shp\".format(data_folder, state_ab, state_ab)\n",
    "population2_data = \"./{}{}_pl2020_b/{}_pl2020_p2_b.shp\".format(data_folder, state_ab, state_ab)\n",
    "vap_data =  \"./{}{}_pl2020_b/{}_pl2020_p4_b.shp\".format(data_folder, state_ab, state_ab)\n",
    "vest20_data = \"./{}{}_vest_20/{}_vest_20.shp\".format(data_folder, state_ab, state_ab)\n",
    "vest18_data = \"./{}{}_vest_18/{}_vest_18.shp\".format(data_folder, state_ab, state_ab)\n",
    "vest16_data = \"./{}{}_vest_16/{}_vest_16.shp\".format(data_folder, state_ab, state_ab)\n",
    "cd_data = \"./{}{}_cong_adopted_2022/oh_cong_adopted_2022.shp\".format(data_folder, state_ab)\n",
    "send_data = \"./{}{}_sldu_adopted_2023/2024-2032-sd-shapefile/Corrected Sept 29 2023 Unified Bipartisan Redistricting Plan SD SHP.shp\".format(data_folder, state_ab)\n",
    "hdist_data = \"./{}{}_sldl_adopted_2023/2024-2032-hd-shapefile/Corrected Sept 29 2023 Unified Bipartisan Redistricting Plan HD SHP.shp\".format(data_folder, state_ab)\n",
    "county_data = \"./{}{}_pl2020_cnty/{}_pl2020_cnty.shp\".format(data_folder, state_ab, state_ab)"
   ]
  },
  {
   "cell_type": "code",
   "execution_count": 6,
   "metadata": {},
   "outputs": [],
   "source": [
    "def do_smart_repair(df, min_rook_length = None, snap_precision = 10):\n",
    "    # change it to the UTM it needs for smart_repair\n",
    "    df = df.to_crs(df.estimate_utm_crs())\n",
    "    df = smart_repair(df, min_rook_length = min_rook_length, snap_precision = snap_precision)\n",
    "\n",
    "    if maup.doctor(df) == False:\n",
    "        raise Exception('maup.doctor failed')\n",
    "    \n",
    "    return df"
   ]
  },
  {
   "cell_type": "code",
   "execution_count": 7,
   "metadata": {},
   "outputs": [],
   "source": [
    "def add_district(dist_df, dist_name, election_df, col_name):\n",
    "    election_df = election_df.to_crs(election_df.estimate_utm_crs())\n",
    "    dist_df = dist_df.to_crs(dist_df.estimate_utm_crs())\n",
    "    # check if it needs to be smart_repair\n",
    "    if maup.doctor(dist_df) != True:\n",
    "        dist_df = do_smart_repair(dist_df)\n",
    "\n",
    "    # assign the pricincts\n",
    "    precincts_to_district_assignment = maup.assign(election_df.geometry, dist_df.geometry)\n",
    "    election_df[dist_name] = precincts_to_district_assignment\n",
    "    for precinct_index in range(len(election_df)):\n",
    "        election_df.at[precinct_index, dist_name] = dist_df.at[election_df.at[precinct_index, dist_name], col_name]\n",
    "\n",
    "    return election_df"
   ]
  },
  {
   "cell_type": "code",
   "execution_count": 8,
   "metadata": {},
   "outputs": [],
   "source": [
    "def rename(original, year):\n",
    "    party = original[6]\n",
    "    if party == 'R' or party == 'D':\n",
    "        return original[3:6] + year + original[6]\n",
    "    else:\n",
    "        return original[3:6] + year + 'O'"
   ]
  },
  {
   "cell_type": "code",
   "execution_count": 9,
   "metadata": {},
   "outputs": [],
   "source": [
    "pop_col = ['TOTPOP', 'HISP', 'NH_WHITE', 'NH_BLACK', 'NH_AMIN', 'NH_ASIAN', 'NH_NHPI', 'NH_OTHER', 'NH_2MORE', 'H_WHITE', 'H_BLACK', 'H_AMIN', 'H_ASIAN', 'H_NHPI', 'H_OTHER', 'H_2MORE', 'VAP', 'HVAP', 'WVAP', 'BVAP', 'AMINVAP', 'ASIANVAP', 'NHPIVAP', 'OTHERVAP', '2MOREVAP']"
   ]
  },
  {
   "cell_type": "code",
   "execution_count": 10,
   "metadata": {},
   "outputs": [],
   "source": [
    "def check_population(population, df):\n",
    "    pop_check = pd.DataFrame({\n",
    "        'pop_col': pop_col,\n",
    "        'population_df': population[pop_col].sum(), \n",
    "        'vest_base': df[pop_col].sum(),\n",
    "        'equal': [x == y for x, y in zip(population[pop_col].sum(), df[pop_col].sum())]\n",
    "    })\n",
    "    if pop_check['equal'].mean() < 1:\n",
    "        print(pop_check)\n",
    "        raise Exception(\"population doesn't agree\")\n",
    "\n",
    "    else:\n",
    "        print(\"population agrees\")"
   ]
  },
  {
   "cell_type": "code",
   "execution_count": 11,
   "metadata": {},
   "outputs": [],
   "source": [
    "def add_vest(vest, df, year, population, start_col, snap_precision = 10):\n",
    "    df = df.to_crs(df.estimate_utm_crs())\n",
    "    vest = vest.to_crs(vest.estimate_utm_crs())\n",
    "    population = population.to_crs(population.estimate_utm_crs())\n",
    "    df_crs = df.crs\n",
    "    vest_crs = vest.crs\n",
    "    \n",
    "     # check if it needs to be smart_repair\n",
    "    if maup.doctor(vest) != True:\n",
    "        vest = do_smart_repair(vest, snap_precision = snap_precision)\n",
    "    \n",
    "    # rename the columns\n",
    "    original_col = vest.columns[start_col:-1]\n",
    "    new_col = [rename(i, year) for i in original_col]\n",
    "    rename_dict = dict(zip(original_col, new_col))\n",
    "    vest = vest.rename(columns=rename_dict)\n",
    "    vest = vest.groupby(level=0, axis=1).sum() # combine all the other party's vote into columns with sufix \"O\"\n",
    "    col_name = list(set(new_col))\n",
    "    col_name.sort()\n",
    "    \n",
    "    # make the blocks from precincts by weight\n",
    "    vest = gpd.GeoDataFrame(vest, crs=vest_crs)\n",
    "    election_in_block = population[[\"VAP\", 'geometry']] # population_df is in block scale\n",
    "    blocks_to_precincts_assignment = maup.assign(election_in_block.geometry, vest.geometry)\n",
    "    weights = election_in_block[\"VAP\"] / blocks_to_precincts_assignment.map(election_in_block[\"VAP\"].groupby(blocks_to_precincts_assignment).sum())\n",
    "    weights = weights.fillna(0)\n",
    "    prorated = maup.prorate(blocks_to_precincts_assignment, vest[col_name], weights)\n",
    "    election_in_block[col_name] = prorated\n",
    "    \n",
    "    # assign blocks to precincts\n",
    "    election_in_block = gpd.GeoDataFrame(election_in_block, crs=vest_crs)\n",
    "    df = gpd.GeoDataFrame(df, crs=df_crs)\n",
    "    block_to_pricinct_assginment = maup.assign(election_in_block.geometry, df.geometry)\n",
    "    df[col_name] = election_in_block[col_name].groupby(block_to_pricinct_assginment).sum()\n",
    "    df = df.groupby(level=0, axis=1).sum()\n",
    "    df = gpd.GeoDataFrame(df, crs = df_crs)\n",
    "    # check if population agrees\n",
    "    check_population(population, df)\n",
    "    \n",
    "    return df"
   ]
  },
  {
   "cell_type": "code",
   "execution_count": 12,
   "metadata": {},
   "outputs": [],
   "source": [
    "def add_vest_base(vest, start_col, year, county = None, min_rook_length = None, snap_precision = 10):\n",
    "    vest = vest.to_crs(vest.estimate_utm_crs())\n",
    "    vest_crs = vest.crs\n",
    "    original_col = vest.columns[start_col:-1]\n",
    "    new_col = [rename(i, year) for i in original_col]\n",
    "    rename_dict = dict(zip(original_col, new_col))\n",
    "    vest = vest.rename(columns=rename_dict)\n",
    "    vest = vest.groupby(level=0, axis=1).sum()\n",
    "    vest = gpd.GeoDataFrame(vest, crs=vest_crs)\n",
    "\n",
    "    if county is not None:\n",
    "        county = county.to_crs(county.estimate_utm_crs())\n",
    "        vest = smart_repair(vest, nest_within_regions = county, min_rook_length = min_rook_length, snap_precision = snap_precision) # nest precincts within counties\n",
    "\n",
    "    else:\n",
    "        vest = smart_repair(vest, min_rook_length = min_rook_length, snap_precision = snap_precision) \n",
    "    \n",
    "    return vest"
   ]
  },
  {
   "cell_type": "code",
   "execution_count": 13,
   "metadata": {},
   "outputs": [],
   "source": [
    "def check_small_boundary_lengths(vest_base):\n",
    "    import copy\n",
    "    vest_base = vest_base.to_crs(vest_base.estimate_utm_crs())\n",
    "\n",
    "    boundaries = copy.deepcopy(vest_base)\n",
    "    boundaries[\"geometry\"] = boundaries.geometry.boundary  # get boundaries\n",
    "    neighbors = gpd.sjoin(boundaries, vest_base, predicate=\"intersects\") # find boundaries that intersect\n",
    "    neighbors = neighbors[neighbors.index != neighbors.index_right] # remove boundaries of a region with itself\n",
    "\n",
    "    # compute shared border length using intersection\n",
    "    borders = list(neighbors.apply(\n",
    "        lambda row: row.geometry.intersection(vest_base.loc[row.index_right, \"geometry\"]).length, axis=1\n",
    "    ))\n",
    "\n",
    "    borders.sort()\n",
    "    \n",
    "    return borders"
   ]
  },
  {
   "cell_type": "markdown",
   "metadata": {},
   "source": [
    "### Read the census data"
   ]
  },
  {
   "cell_type": "code",
   "execution_count": 15,
   "metadata": {},
   "outputs": [],
   "source": [
    "population1_df = gpd.read_file(population1_data)\n",
    "population2_df = gpd.read_file(population2_data)\n",
    "vap_df = gpd.read_file(vap_data)\n",
    "county_df = gpd.read_file(county_data)"
   ]
  },
  {
   "cell_type": "code",
   "execution_count": 16,
   "metadata": {},
   "outputs": [],
   "source": [
    "population2_df = population2_df.drop(columns=['SUMLEV', 'LOGRECNO', 'GEOID', 'COUNTY', 'geometry'])\n",
    "vap_df = vap_df.drop(columns=['SUMLEV', 'LOGRECNO', 'GEOID', 'COUNTY', 'geometry'])"
   ]
  },
  {
   "cell_type": "code",
   "execution_count": 17,
   "metadata": {},
   "outputs": [],
   "source": [
    "population_df = pd.merge(population1_df, population2_df, on='GEOID20')\n",
    "population_df = pd.merge(population_df, vap_df, on='GEOID20')\n",
    "population_df = population_df.to_crs(population_df.estimate_utm_crs())"
   ]
  },
  {
   "cell_type": "code",
   "execution_count": 18,
   "metadata": {},
   "outputs": [
    {
     "name": "stderr",
     "output_type": "stream",
     "text": [
      "100%|█████████████████████████████████| 276428/276428 [01:32<00:00, 3002.11it/s]\n"
     ]
    },
    {
     "data": {
      "text/plain": [
       "True"
      ]
     },
     "execution_count": 18,
     "metadata": {},
     "output_type": "execute_result"
    }
   ],
   "source": [
    "maup.doctor(population_df)"
   ]
  },
  {
   "cell_type": "code",
   "execution_count": 19,
   "metadata": {},
   "outputs": [],
   "source": [
    "population_df['H_WHITE'] = population_df.apply(lambda t: t['P0010003'] - t['P0020005'], 1)\n",
    "population_df['H_BLACK'] = population_df.apply(lambda t: t['P0010004'] - t['P0020006'], 1)\n",
    "population_df['H_AMIN'] = population_df.apply(lambda t: t['P0010005'] - t['P0020007'], 1)\n",
    "population_df['H_ASIAN'] = population_df.apply(lambda t: t['P0010006'] - t['P0020008'], 1)\n",
    "population_df['H_NHPI'] = population_df.apply(lambda t: t['P0010007'] - t['P0020009'], 1)\n",
    "population_df['H_OTHER'] = population_df.apply(lambda t: t['P0010008'] - t['P0020010'], 1)\n",
    "population_df['H_2MORE'] = population_df.apply(lambda t: t['P0010009'] - t['P0020011'], 1)"
   ]
  },
  {
   "cell_type": "code",
   "execution_count": 20,
   "metadata": {},
   "outputs": [],
   "source": [
    "rename_dict = {'P0020001': 'TOTPOP', 'P0020002': 'HISP', 'P0020005': 'NH_WHITE', 'P0020006': 'NH_BLACK', 'P0020007': 'NH_AMIN',\n",
    "                    'P0020008': 'NH_ASIAN', 'P0020009': 'NH_NHPI', 'P0020010': 'NH_OTHER', 'P0020011': 'NH_2MORE',\n",
    "                    'P0040001': 'VAP', 'P0040002': 'HVAP', 'P0040005': 'WVAP', 'P0040006': 'BVAP', 'P0040007': 'AMINVAP',\n",
    "                                        'P0040008': 'ASIANVAP', 'P0040009': 'NHPIVAP', 'P0040010': 'OTHERVAP', 'P0040011': '2MOREVAP'}"
   ]
  },
  {
   "cell_type": "code",
   "execution_count": 21,
   "metadata": {},
   "outputs": [],
   "source": [
    "population_df.rename(columns=rename_dict, inplace = True)"
   ]
  },
  {
   "cell_type": "code",
   "execution_count": 22,
   "metadata": {},
   "outputs": [
    {
     "name": "stderr",
     "output_type": "stream",
     "text": [
      "100%|██████████████████████████████████████████| 88/88 [00:00<00:00, 652.03it/s]\n"
     ]
    },
    {
     "data": {
      "text/plain": [
       "True"
      ]
     },
     "execution_count": 22,
     "metadata": {},
     "output_type": "execute_result"
    }
   ],
   "source": [
    "county_df = county_df.to_crs(county_df.estimate_utm_crs())\n",
    "maup.doctor(county_df)"
   ]
  },
  {
   "cell_type": "markdown",
   "metadata": {},
   "source": [
    "## Read the vest 20 data\n",
    "\n",
    "Now using it as a \"base pricinct\""
   ]
  },
  {
   "cell_type": "markdown",
   "metadata": {},
   "source": [
    "## Check if vest20 can be used as base"
   ]
  },
  {
   "cell_type": "code",
   "execution_count": 25,
   "metadata": {},
   "outputs": [],
   "source": [
    "vest20 = gpd.read_file(vest20_data)"
   ]
  },
  {
   "cell_type": "code",
   "execution_count": 26,
   "metadata": {},
   "outputs": [
    {
     "data": {
      "text/plain": [
       "Index(['STATEFP20', 'COUNTYFP20', 'VTDST20', 'PRECINCT20', 'GEOID20', 'NAME20',\n",
       "       'G20PRERTRU', 'G20PREDBID', 'G20PRELJOR', 'G20PREGHAW', 'geometry'],\n",
       "      dtype='object')"
      ]
     },
     "execution_count": 26,
     "metadata": {},
     "output_type": "execute_result"
    }
   ],
   "source": [
    "vest20.columns"
   ]
  },
  {
   "cell_type": "code",
   "execution_count": 27,
   "metadata": {},
   "outputs": [],
   "source": [
    "start_col = 6\n",
    "vest_base_data = vest20\n",
    "year = '20'"
   ]
  },
  {
   "cell_type": "code",
   "execution_count": 28,
   "metadata": {},
   "outputs": [
    {
     "name": "stderr",
     "output_type": "stream",
     "text": [
      "100%|██████████████████████████████████████████| 88/88 [00:00<00:00, 674.08it/s]\n"
     ]
    },
    {
     "name": "stdout",
     "output_type": "stream",
     "text": [
      "Snapping all geometries to a grid with precision 10^( -5 ) to avoid GEOS errors.\n"
     ]
    },
    {
     "name": "stderr",
     "output_type": "stream",
     "text": [
      "100%|██████████████████████████████████████████| 88/88 [00:00<00:00, 181.99it/s]\n",
      "100%|█████████████████████████████████████████| 88/88 [00:00<00:00, 5796.88it/s]\n"
     ]
    },
    {
     "name": "stdout",
     "output_type": "stream",
     "text": [
      "Identifying overlaps...\n"
     ]
    },
    {
     "name": "stderr",
     "output_type": "stream",
     "text": [
      "100%|███████████████████████████████████| 10807/10807 [00:04<00:00, 2660.30it/s]\n"
     ]
    },
    {
     "name": "stdout",
     "output_type": "stream",
     "text": [
      "Resolving overlaps and filling gaps...\n"
     ]
    },
    {
     "name": "stderr",
     "output_type": "stream",
     "text": [
      "100%|██████████████████████████████████████████| 88/88 [00:00<00:00, 190.05it/s]\n",
      "100%|█████████████████████████████████████████| 88/88 [00:00<00:00, 6175.42it/s]\n",
      "Gaps to simplify: 0it [00:00, ?it/s]\n",
      "Gaps to fill: 0it [00:00, ?it/s]\n",
      "Gaps to simplify: 0it [00:00, ?it/s]\n",
      "Gaps to fill: 0it [00:00, ?it/s]\n",
      "Gaps to simplify: 0it [00:00, ?it/s]\n",
      "Gaps to fill: 0it [00:00, ?it/s]\n",
      "Gaps to simplify: 0it [00:00, ?it/s]\n",
      "Gaps to fill: 0it [00:00, ?it/s]\n",
      "Gaps to simplify: 0it [00:00, ?it/s]\n",
      "Gaps to fill: 0it [00:00, ?it/s]\n",
      "Gaps to simplify: 0it [00:00, ?it/s]\n",
      "Gaps to fill: 0it [00:00, ?it/s]\n",
      "Gaps to simplify: 0it [00:00, ?it/s]\n",
      "Gaps to fill: 0it [00:00, ?it/s]\n",
      "Gaps to simplify in region 7: 100%|███████████████| 1/1 [00:00<00:00, 83.47it/s]\n",
      "Gaps to fill in region 7: 100%|███████████████████| 1/1 [00:00<00:00, 89.26it/s]\n",
      "Gaps to simplify: 0it [00:00, ?it/s]\n",
      "Gaps to fill: 0it [00:00, ?it/s]\n",
      "Gaps to simplify: 0it [00:00, ?it/s]\n",
      "Gaps to fill: 0it [00:00, ?it/s]\n",
      "Gaps to simplify: 0it [00:00, ?it/s]\n",
      "Gaps to fill: 0it [00:00, ?it/s]\n",
      "Gaps to simplify: 0it [00:00, ?it/s]\n",
      "Gaps to fill: 0it [00:00, ?it/s]\n",
      "Gaps to simplify: 0it [00:00, ?it/s]\n",
      "Gaps to fill: 0it [00:00, ?it/s]\n",
      "Gaps to simplify in region 13: 100%|██████████████| 1/1 [00:00<00:00, 64.53it/s]\n",
      "Gaps to fill: 0it [00:00, ?it/s]\n",
      "Gaps to simplify: 0it [00:00, ?it/s]\n",
      "Gaps to fill: 0it [00:00, ?it/s]\n",
      "Gaps to simplify: 0it [00:00, ?it/s]\n",
      "Gaps to fill: 0it [00:00, ?it/s]\n",
      "Gaps to simplify: 0it [00:00, ?it/s]\n",
      "Gaps to fill: 0it [00:00, ?it/s]\n",
      "Gaps to simplify: 0it [00:00, ?it/s]\n",
      "Gaps to fill: 0it [00:00, ?it/s]\n",
      "Gaps to simplify: 0it [00:00, ?it/s]\n",
      "Gaps to fill: 0it [00:00, ?it/s]\n",
      "Gaps to simplify: 0it [00:00, ?it/s]\n",
      "Gaps to fill: 0it [00:00, ?it/s]\n",
      "Gaps to simplify: 0it [00:00, ?it/s]\n",
      "Gaps to fill: 0it [00:00, ?it/s]\n",
      "Gaps to simplify: 0it [00:00, ?it/s]\n",
      "Gaps to fill: 0it [00:00, ?it/s]\n",
      "Gaps to simplify: 0it [00:00, ?it/s]\n",
      "Gaps to fill: 0it [00:00, ?it/s]\n",
      "Gaps to simplify: 0it [00:00, ?it/s]\n",
      "Gaps to fill: 0it [00:00, ?it/s]\n",
      "Gaps to simplify: 0it [00:00, ?it/s]\n",
      "Gaps to fill: 0it [00:00, ?it/s]\n",
      "Gaps to simplify: 0it [00:00, ?it/s]\n",
      "Gaps to fill: 0it [00:00, ?it/s]\n",
      "Gaps to simplify in region 26: 100%|██████████████| 2/2 [00:00<00:00, 24.34it/s]\n",
      "Gaps to fill in region 26: 100%|██████████████████| 2/2 [00:00<00:00, 24.74it/s]\n",
      "Gaps to simplify: 0it [00:00, ?it/s]\n",
      "Gaps to fill: 0it [00:00, ?it/s]\n",
      "Gaps to simplify: 0it [00:00, ?it/s]\n",
      "Gaps to fill: 0it [00:00, ?it/s]\n",
      "Gaps to simplify: 0it [00:00, ?it/s]\n",
      "Gaps to fill: 0it [00:00, ?it/s]\n",
      "Gaps to simplify: 0it [00:00, ?it/s]\n",
      "Gaps to fill: 0it [00:00, ?it/s]\n",
      "Gaps to simplify: 0it [00:00, ?it/s]\n",
      "Gaps to fill: 0it [00:00, ?it/s]\n",
      "Gaps to simplify in region 32: 100%|██████████████| 1/1 [00:00<00:00, 24.70it/s]\n",
      "Gaps to fill in region 32: 100%|██████████████████| 1/1 [00:00<00:00, 23.91it/s]\n",
      "Gaps to simplify: 0it [00:00, ?it/s]\n",
      "Gaps to fill: 0it [00:00, ?it/s]\n",
      "Gaps to simplify: 0it [00:00, ?it/s]\n",
      "Gaps to fill: 0it [00:00, ?it/s]\n",
      "Gaps to simplify: 0it [00:00, ?it/s]\n",
      "Gaps to fill: 0it [00:00, ?it/s]\n",
      "Gaps to simplify: 0it [00:00, ?it/s]\n",
      "Gaps to fill: 0it [00:00, ?it/s]\n",
      "Gaps to simplify: 0it [00:00, ?it/s]\n",
      "Gaps to fill: 0it [00:00, ?it/s]\n",
      "Gaps to simplify: 0it [00:00, ?it/s]\n",
      "Gaps to fill: 0it [00:00, ?it/s]\n",
      "Gaps to simplify: 0it [00:00, ?it/s]\n",
      "Gaps to fill: 0it [00:00, ?it/s]\n",
      "Gaps to simplify: 0it [00:00, ?it/s]\n",
      "Gaps to fill: 0it [00:00, ?it/s]\n",
      "Gaps to simplify: 0it [00:00, ?it/s]\n",
      "Gaps to fill: 0it [00:00, ?it/s]\n",
      "Gaps to simplify: 0it [00:00, ?it/s]\n",
      "Gaps to fill: 0it [00:00, ?it/s]\n",
      "Gaps to simplify: 0it [00:00, ?it/s]\n",
      "Gaps to fill: 0it [00:00, ?it/s]\n",
      "Gaps to simplify: 0it [00:00, ?it/s]\n",
      "Gaps to fill: 0it [00:00, ?it/s]\n",
      "Gaps to simplify: 0it [00:00, ?it/s]\n",
      "Gaps to fill: 0it [00:00, ?it/s]\n",
      "Gaps to simplify in region 46: 100%|██████████████| 2/2 [00:00<00:00, 55.17it/s]\n",
      "Gaps to fill: 0it [00:00, ?it/s]\n",
      "Gaps to simplify: 0it [00:00, ?it/s]\n",
      "Gaps to fill: 0it [00:00, ?it/s]\n",
      "Gaps to simplify: 0it [00:00, ?it/s]\n",
      "Gaps to fill: 0it [00:00, ?it/s]\n",
      "Gaps to simplify: 0it [00:00, ?it/s]\n",
      "Gaps to fill: 0it [00:00, ?it/s]\n",
      "Gaps to simplify: 0it [00:00, ?it/s]\n",
      "Gaps to fill: 0it [00:00, ?it/s]\n",
      "Gaps to simplify: 0it [00:00, ?it/s]\n",
      "Gaps to fill: 0it [00:00, ?it/s]\n",
      "Gaps to simplify: 0it [00:00, ?it/s]\n",
      "Gaps to fill: 0it [00:00, ?it/s]\n",
      "Gaps to simplify: 0it [00:00, ?it/s]\n",
      "Gaps to fill: 0it [00:00, ?it/s]\n",
      "Gaps to simplify: 0it [00:00, ?it/s]\n",
      "Gaps to fill: 0it [00:00, ?it/s]\n",
      "Gaps to simplify: 0it [00:00, ?it/s]\n",
      "Gaps to fill: 0it [00:00, ?it/s]\n",
      "Gaps to simplify: 0it [00:00, ?it/s]\n",
      "Gaps to fill: 0it [00:00, ?it/s]\n",
      "Gaps to simplify: 0it [00:00, ?it/s]\n",
      "Gaps to fill: 0it [00:00, ?it/s]\n",
      "Gaps to simplify: 0it [00:00, ?it/s]\n",
      "Gaps to fill: 0it [00:00, ?it/s]\n",
      "Gaps to simplify: 0it [00:00, ?it/s]\n",
      "Gaps to fill: 0it [00:00, ?it/s]\n",
      "Gaps to simplify: 0it [00:00, ?it/s]\n",
      "Gaps to fill: 0it [00:00, ?it/s]\n",
      "Gaps to simplify: 0it [00:00, ?it/s]\n",
      "Gaps to fill: 0it [00:00, ?it/s]\n",
      "Gaps to simplify: 0it [00:00, ?it/s]\n",
      "Gaps to fill: 0it [00:00, ?it/s]\n",
      "Gaps to simplify: 0it [00:00, ?it/s]\n",
      "Gaps to fill: 0it [00:00, ?it/s]\n",
      "Gaps to simplify: 0it [00:00, ?it/s]\n",
      "Gaps to fill: 0it [00:00, ?it/s]\n",
      "Gaps to simplify: 0it [00:00, ?it/s]\n",
      "Gaps to fill: 0it [00:00, ?it/s]\n",
      "Gaps to simplify: 0it [00:00, ?it/s]\n",
      "Gaps to fill: 0it [00:00, ?it/s]\n",
      "Gaps to simplify: 0it [00:00, ?it/s]\n",
      "Gaps to fill: 0it [00:00, ?it/s]\n",
      "Gaps to simplify: 0it [00:00, ?it/s]\n",
      "Gaps to fill: 0it [00:00, ?it/s]\n",
      "Gaps to simplify: 0it [00:00, ?it/s]\n",
      "Gaps to fill: 0it [00:00, ?it/s]\n",
      "Gaps to simplify: 0it [00:00, ?it/s]\n",
      "Gaps to fill: 0it [00:00, ?it/s]\n",
      "Gaps to simplify: 0it [00:00, ?it/s]\n",
      "Gaps to fill: 0it [00:00, ?it/s]\n",
      "Gaps to simplify: 0it [00:00, ?it/s]\n",
      "Gaps to fill: 0it [00:00, ?it/s]\n",
      "Gaps to simplify in region 73: 100%|██████████████| 2/2 [00:00<00:00, 80.56it/s]\n",
      "Gaps to fill in region 73: 100%|██████████████████| 1/1 [00:00<00:00, 67.02it/s]\n",
      "Gaps to simplify: 0it [00:00, ?it/s]\n",
      "Gaps to fill: 0it [00:00, ?it/s]\n",
      "Gaps to simplify: 0it [00:00, ?it/s]\n",
      "Gaps to fill: 0it [00:00, ?it/s]\n",
      "Gaps to simplify: 0it [00:00, ?it/s]\n",
      "Gaps to fill: 0it [00:00, ?it/s]\n",
      "Gaps to simplify: 0it [00:00, ?it/s]\n",
      "Gaps to fill: 0it [00:00, ?it/s]\n",
      "Gaps to simplify: 0it [00:00, ?it/s]\n",
      "Gaps to fill: 0it [00:00, ?it/s]\n",
      "Gaps to simplify: 0it [00:00, ?it/s]\n",
      "Gaps to fill: 0it [00:00, ?it/s]\n",
      "Gaps to simplify: 0it [00:00, ?it/s]\n",
      "Gaps to fill: 0it [00:00, ?it/s]\n",
      "Gaps to simplify: 0it [00:00, ?it/s]\n",
      "Gaps to fill: 0it [00:00, ?it/s]\n",
      "Gaps to simplify: 0it [00:00, ?it/s]\n",
      "Gaps to fill: 0it [00:00, ?it/s]\n",
      "Gaps to simplify: 0it [00:00, ?it/s]\n",
      "Gaps to fill: 0it [00:00, ?it/s]\n",
      "Gaps to simplify: 0it [00:00, ?it/s]\n",
      "Gaps to fill: 0it [00:00, ?it/s]\n",
      "Gaps to simplify: 0it [00:00, ?it/s]\n",
      "Gaps to fill: 0it [00:00, ?it/s]\n",
      "Gaps to simplify: 0it [00:00, ?it/s]\n",
      "Gaps to fill: 0it [00:00, ?it/s]\n",
      "Gaps to simplify: 0it [00:00, ?it/s]\n",
      "Gaps to fill: 0it [00:00, ?it/s]\n"
     ]
    }
   ],
   "source": [
    "vest_base = add_vest_base(vest_base_data, start_col, year, county = county_df)"
   ]
  },
  {
   "cell_type": "code",
   "execution_count": 29,
   "metadata": {},
   "outputs": [
    {
     "name": "stdout",
     "output_type": "stream",
     "text": [
      "[0.0, 0.0, 0.0, 0.0, 0.0, 0.0, 0.0, 0.0, 0.0, 0.0, 0.0, 0.0, 0.0, 0.0, 0.0, 0.0, 0.0, 0.0, 0.0, 0.0, 0.0, 0.0, 0.0, 0.0, 0.0, 0.0, 0.0, 0.0, 0.0, 0.0, 0.0, 0.0, 0.0, 0.0, 0.0, 0.0, 0.0, 0.0, 0.0, 0.0, 0.0, 0.0, 0.0, 0.0, 0.0, 0.0, 0.0, 0.0, 0.0, 0.0, 0.0, 0.0, 0.0, 0.0, 0.0, 0.0, 0.0, 0.0, 0.0, 0.0, 0.0, 0.0, 0.0, 0.0, 0.0, 0.0, 0.0, 0.0, 0.0, 0.0, 0.0, 0.0, 0.0, 0.0, 0.0, 0.0, 0.0, 0.0, 0.0, 0.0, 0.0, 0.0, 0.0, 0.0, 0.0, 0.0, 0.0, 0.0, 0.0, 0.0, 0.0, 0.0, 0.0, 0.0, 0.0, 0.0, 0.0, 0.0, 0.0, 0.0, 0.0, 0.0, 0.0, 0.0, 0.0, 0.0, 0.0, 0.0, 0.0, 0.0, 0.0, 0.0, 0.0, 0.0, 0.0, 0.0, 0.0, 0.0, 0.0, 0.0, 0.0, 0.0, 0.0, 0.0, 0.0, 0.0, 0.0, 0.0, 0.0, 0.0, 0.0, 0.0, 0.0, 0.0, 0.0, 0.0, 0.0, 0.0, 0.0, 0.0, 0.0, 0.0, 0.0, 0.0, 0.0, 0.0, 0.0, 0.0, 0.0, 0.0, 0.0, 0.0, 0.0, 0.0, 0.0, 0.0, 0.0, 0.0, 0.0, 0.0, 0.0, 0.0, 0.0, 0.0, 0.0, 0.0, 0.0, 0.0, 0.0, 0.0, 0.0, 0.0, 0.0, 0.0, 0.0, 0.0, 0.0, 0.0, 0.0, 0.0, 0.0, 0.0, 0.0, 0.0, 0.0, 0.0, 0.0, 0.0, 0.0, 0.0, 0.0, 0.0, 0.0, 0.0, 0.0, 0.0, 0.0, 0.0, 0.0, 0.0, 0.0, 0.0, 0.0, 0.0, 0.0, 0.0, 0.0, 0.0, 0.0, 0.0, 0.0, 0.0, 0.0, 0.0, 0.0, 0.0, 0.0, 0.0, 0.0, 0.0, 0.0, 0.0, 0.0, 0.0, 0.0, 0.0, 0.0, 0.0, 0.0, 0.0, 0.0, 0.0, 0.0, 0.0, 0.0, 0.0, 0.0, 0.0, 0.0, 0.0, 0.0, 0.0, 0.0, 0.0, 0.0, 0.0, 0.0, 0.0, 0.0, 0.0, 0.0, 0.0, 0.0, 0.0, 0.0, 0.0, 0.0, 0.0, 0.0, 0.0, 0.0, 0.0, 0.0, 0.0, 0.0, 0.0, 0.0, 0.0, 0.0, 0.0, 0.0, 0.0, 0.0, 0.0, 0.0, 0.0, 0.0, 0.0, 0.0, 0.0, 0.0, 0.0, 0.0, 0.0, 0.0, 0.0, 0.0, 0.0, 0.0, 0.0, 0.0, 0.0, 0.0, 0.0, 0.0, 0.0, 0.0, 0.0, 0.0, 0.0, 0.0, 0.0, 0.0, 0.0, 0.0, 0.0, 0.0, 0.0, 0.0, 0.0, 0.0, 0.0, 0.0, 0.0, 0.0, 0.0, 0.0, 0.0, 0.0, 0.0, 0.0, 0.0, 0.0, 0.0, 0.0, 0.0, 0.0, 0.0, 0.0, 0.0, 0.0, 0.0, 0.0, 0.0, 0.0, 0.0, 0.0, 0.0, 0.0, 0.0, 0.0, 0.0, 0.0, 0.0, 0.0, 0.0, 0.0, 0.0, 0.0, 0.0, 0.0, 0.0, 0.0, 0.0, 0.0, 0.0, 0.0, 0.0, 0.0, 0.0, 0.0, 0.0, 0.0, 0.0, 0.0, 0.0, 0.0, 0.0, 0.0, 0.0, 0.0, 0.0, 0.0, 0.0, 0.0, 0.0, 0.0, 0.0, 0.0, 0.0, 0.0, 0.0, 0.0, 0.0, 0.0, 0.0, 0.0, 0.0, 0.0, 0.0, 0.0, 0.0, 0.0, 0.0, 0.0, 0.0, 0.0, 0.0, 0.0, 0.0, 0.0, 0.0, 0.0, 0.0, 0.0, 0.0, 0.0, 0.0, 0.0, 0.0, 0.0, 0.0, 0.0, 0.0, 0.0, 0.0, 0.0, 0.0, 0.0, 0.0, 0.0, 0.0, 0.0, 0.0, 0.0, 0.0, 0.0, 0.0, 0.0, 0.0, 0.0, 0.0, 0.0, 0.0, 0.0, 0.0, 0.0, 0.0, 0.0, 0.0, 0.0, 0.0, 0.0, 0.0, 0.0, 0.0, 0.0, 0.0, 0.0, 0.0, 0.0, 0.0, 0.0, 0.0, 0.0, 0.0, 0.0, 0.0, 0.0, 0.0, 0.0, 0.0, 0.0, 0.0, 0.0, 0.0, 0.0, 0.0, 0.0, 0.0, 0.0, 0.0, 0.0, 0.0, 0.0, 0.0, 0.0, 0.0, 0.0, 0.0, 0.0, 0.0, 0.0, 0.0, 0.0, 0.0, 0.0, 0.0, 0.0, 0.0, 0.0, 0.0, 0.0, 0.0, 0.0, 0.0, 0.0, 0.0, 0.0, 0.0, 0.0, 0.0, 0.0, 0.0, 0.0, 0.0, 0.0, 0.0, 0.0, 0.0, 0.0, 0.0, 0.0, 0.0, 0.0, 0.0, 0.0, 0.0, 0.0, 0.0, 0.0, 0.0, 0.0, 0.0, 0.0, 0.0, 0.0, 0.0, 0.0, 0.0, 0.0, 0.0, 0.0, 0.0, 0.0, 0.0, 0.0, 0.0, 0.0, 0.0, 0.0, 0.0, 0.0, 0.0, 0.0, 0.0, 0.0, 0.0, 0.0, 0.0, 0.0, 0.0, 0.0, 0.0, 0.0, 0.0, 0.0, 0.0, 0.0, 0.0, 0.0, 0.0, 0.0, 0.0, 0.0, 0.0, 0.0, 0.0, 0.0, 0.0, 0.0, 0.0, 0.0, 0.0, 0.0, 0.0, 0.0, 0.0, 0.0, 0.0, 0.0, 0.0, 0.0, 0.0, 0.0, 0.0, 0.0, 0.0, 0.0, 0.0, 0.0, 0.0, 0.0, 0.0, 0.0, 0.0, 0.0, 0.0, 0.0, 0.0, 0.0, 0.0, 0.0, 0.0, 0.0, 0.0, 0.0, 0.0, 0.0, 0.0, 0.0, 0.0, 0.0, 0.0, 0.0, 0.0, 0.0, 0.0, 0.0, 0.0, 0.0, 0.0, 0.0, 0.0, 0.0, 0.0, 0.0, 0.0, 0.0, 0.0, 0.0, 0.0, 0.0, 0.0, 0.0, 0.0, 0.0, 0.0, 0.0, 0.0, 0.0, 0.0, 0.0, 0.0, 0.0, 0.0, 0.0, 0.0, 0.0, 0.0, 0.0, 0.0, 0.0, 0.0, 0.0, 0.0, 0.0, 0.0, 0.0, 0.0, 0.0, 0.0, 0.0, 0.0, 0.0, 0.0, 0.0, 0.0, 0.0, 0.0, 0.0, 0.0, 0.0, 0.0, 0.0, 0.0, 0.0, 0.0, 0.0, 0.0, 0.0, 0.0, 0.0, 0.0, 0.0, 0.0, 0.0, 0.0, 0.0, 0.0, 0.0, 0.0, 0.0, 0.0, 0.0, 0.0, 0.0, 0.0, 0.0, 0.0, 0.0, 0.0, 0.0, 0.0, 0.0, 0.0, 0.0, 0.0, 0.0, 0.0, 0.0, 0.0, 0.0, 0.0, 0.0, 0.0, 0.0, 0.0, 0.0, 0.0, 0.0, 0.0, 0.0, 0.0, 0.0, 0.0, 0.0, 0.0, 0.0, 0.0, 0.0, 0.0, 0.0, 0.0, 0.0, 0.0, 0.0, 0.0, 0.0, 0.0, 0.0, 0.0, 0.0, 0.0, 0.0, 0.0, 0.0, 0.0, 0.0, 0.0, 0.0, 0.0, 0.0, 0.0, 0.0, 0.0, 0.0, 0.0, 0.0, 0.0, 0.0, 0.0, 0.0, 0.0, 0.0, 0.0, 0.0, 0.0, 0.0, 0.0, 0.0, 0.0, 0.0, 0.0, 0.0, 0.0, 0.0, 0.0, 0.0, 0.0, 0.0, 0.0, 0.0, 0.0, 0.0, 0.0, 0.0, 0.0, 0.0, 0.0, 0.0, 0.0, 0.0, 0.0, 0.0, 0.0, 0.0, 0.0, 0.0, 0.0, 0.0, 0.0, 0.0, 0.0, 0.0, 0.0, 0.0, 0.0, 0.0, 0.0, 0.0, 0.0, 0.0, 0.0, 0.0, 0.0, 0.0, 0.0, 0.0, 0.0, 0.0, 0.0, 0.0, 0.0, 0.0, 0.0, 0.0, 0.0, 0.0, 0.0, 0.0, 0.0, 0.0, 0.0, 0.0, 0.0, 0.0, 0.0, 0.0, 0.0, 0.0, 0.0, 0.0, 0.0, 0.0, 0.0, 0.0, 0.0, 0.0, 0.0, 0.0, 0.0, 0.0, 0.0, 0.0, 0.0, 0.0, 0.0, 0.0, 0.0, 0.0, 0.0, 0.0, 0.0, 0.0, 0.0, 0.0, 0.0, 0.0, 0.0, 0.0, 0.0, 0.0, 0.0, 0.0, 0.0, 0.0, 0.0, 0.0, 0.0, 0.0, 0.0, 0.0, 0.0, 0.0, 0.0, 0.0, 0.0, 0.0, 0.0, 0.0, 0.0, 0.0, 0.0, 0.0, 0.0, 0.0, 0.0, 0.0, 0.0, 0.0, 0.0, 0.0, 0.0, 0.0, 0.0, 0.0, 0.0, 0.0, 0.0, 0.0, 0.0, 0.0, 0.0, 0.0, 0.0, 0.0, 0.0, 0.0, 0.0, 0.0, 0.0, 0.0, 0.0, 0.0, 0.0, 0.0, 0.0, 0.0, 0.0, 0.0, 0.0, 0.0, 0.0, 0.0, 0.0, 0.0, 0.0, 0.0, 0.0, 0.0, 0.0, 0.0, 0.0, 0.0, 0.0, 0.0, 0.0, 0.0, 0.0, 0.0, 0.0, 0.0, 0.0, 0.0, 0.0, 0.0, 0.0, 0.0, 0.0, 0.0, 0.0, 0.0, 0.0, 0.0, 0.0, 0.0, 0.0, 0.0, 0.0, 0.0, 0.0, 0.0, 0.0, 0.0, 0.0, 0.0, 0.0, 0.0, 0.0, 0.0, 0.0, 0.0, 0.0, 0.0, 0.0, 0.0, 0.0, 0.0, 0.0, 0.0, 0.0, 0.0, 0.0, 0.0, 0.0, 0.0, 0.0, 0.0, 0.0, 0.0, 0.0, 0.0, 0.0, 0.0, 0.0, 0.0, 0.0, 0.0, 0.0, 0.0, 0.0, 0.0, 0.0, 0.0, 0.0, 0.0, 0.0, 0.0, 0.0, 0.0, 0.0, 0.0, 0.0, 0.0, 0.0, 0.0, 0.0, 0.0, 0.0, 0.0, 0.0, 0.0, 0.0, 0.0, 0.0, 0.0, 0.0, 0.0, 0.0, 0.0, 0.0, 0.0, 0.0, 0.0, 0.0, 0.0, 0.0, 0.0, 0.0, 0.0, 0.0, 0.0, 0.0, 0.0, 0.0, 0.0, 0.0, 0.0, 0.0, 0.0, 0.0, 0.0, 0.0, 0.0, 0.0, 0.0, 0.0, 0.0, 0.0, 0.0, 0.0, 0.0, 0.0, 0.0, 0.0, 0.0, 0.0, 0.0, 0.0, 0.0, 0.0, 0.0, 0.0, 0.0, 0.0, 0.0, 0.0, 0.0, 0.0, 0.0, 0.0, 0.0, 0.0, 0.0, 0.0, 0.0, 0.0, 0.0, 0.0, 0.0, 0.0, 0.0, 0.0, 0.0, 0.0, 0.0, 0.0, 0.0, 0.0, 0.0, 0.0, 0.0, 0.0, 0.0, 0.0, 0.0, 0.0, 0.0, 0.0, 0.0, 0.0, 0.0, 0.0, 0.0, 0.0, 0.0, 0.0, 0.0, 0.0, 0.0, 0.0, 0.0, 0.0, 0.0, 0.0, 0.0, 0.0, 0.0, 0.0, 0.0, 0.0, 0.0, 0.0, 0.0, 0.0, 0.0, 0.0, 0.0, 0.0, 0.0, 0.0, 0.0, 0.0, 0.0, 0.0, 0.0, 0.0, 0.0, 0.0, 0.0, 0.0, 0.0, 0.0, 0.0, 0.0, 0.0, 0.0, 0.0, 0.0, 0.0, 0.0, 0.0, 0.0, 0.0, 0.0, 0.0, 0.0, 0.0, 0.0, 0.0, 0.0, 0.0, 0.0, 0.0, 0.0, 0.0, 0.0, 0.0, 0.0, 0.0, 0.0, 0.0, 0.0, 0.0, 0.0, 0.0, 0.0, 0.0, 0.0, 0.0, 0.0, 0.0, 0.0, 0.0, 0.0, 0.0, 0.0, 0.0, 0.0, 0.0, 0.0, 0.0, 0.0, 0.0, 0.0, 0.0, 0.0, 0.0, 0.0, 0.0, 0.0, 0.0, 0.0, 0.0, 0.0, 0.0, 0.0, 0.0, 0.0, 0.0, 0.0, 0.0, 0.0, 0.0, 0.0, 0.0, 0.0, 0.0, 0.0, 0.0, 0.0, 0.0, 0.0, 0.0, 0.0, 0.0, 0.0, 0.0, 0.0, 0.0, 0.0, 0.0, 0.0, 0.0, 0.0, 0.0, 0.0, 0.0, 0.0, 0.0, 0.0, 0.0, 0.0, 0.0, 0.0, 0.0, 0.0, 0.0, 0.0, 0.0, 0.0, 0.0, 0.0, 0.0, 0.0, 0.0, 0.0, 0.0, 0.0, 0.0, 0.0, 0.0, 0.0, 0.0, 0.0, 0.0, 0.0, 0.0, 0.0, 0.0, 0.0, 0.0, 0.0, 0.0, 0.0, 0.0, 0.0, 0.0, 0.0, 0.0, 0.0, 0.0, 0.0, 0.0, 0.0, 0.0, 0.0, 0.0, 0.0, 0.0, 0.0, 0.0, 0.0, 0.0, 0.0, 0.0, 0.0, 0.0, 0.0, 0.0, 0.0, 0.0, 0.0, 0.0, 0.0, 0.0, 0.0, 0.0, 0.0, 0.0, 0.0, 0.0, 0.0, 0.0, 0.0, 0.0, 0.0, 0.0, 0.0, 0.0, 0.0, 0.0, 0.0, 0.0, 0.0, 0.0, 0.0, 0.0, 0.0, 0.0, 0.0, 0.0, 0.0, 0.0, 0.0, 0.0, 0.0, 0.0, 0.0, 0.0, 0.0, 0.0, 0.0, 0.0, 0.0, 0.0, 0.0, 0.0, 0.0, 0.0, 0.0, 0.0, 0.0, 0.0, 0.0, 0.0, 0.0, 0.0, 0.0, 0.0, 0.0, 0.0, 0.0, 0.0, 0.0, 0.0, 0.0, 0.0, 0.0, 0.0, 0.0, 0.0, 0.0, 0.0, 0.0, 0.0, 0.0, 0.0, 0.0, 0.0, 0.0, 0.0, 0.0, 0.0, 0.0, 0.0, 0.0, 0.0, 0.0, 0.0, 0.0, 0.0, 0.0, 0.0, 0.0, 0.0, 0.0, 0.0, 0.0, 0.0, 0.0, 0.0, 0.0, 0.0, 0.0, 0.0, 0.0, 0.0, 0.0, 0.0, 0.0, 0.0, 0.0, 0.0, 0.0, 0.0, 0.0, 0.0, 0.0, 0.0, 0.0, 0.0, 0.0, 0.0, 0.0, 0.0, 0.0, 0.0, 0.0, 0.0, 0.0, 0.0, 0.0, 0.0, 0.0, 0.0, 0.0, 0.0, 0.0, 0.0, 0.0, 0.0, 0.0, 0.0, 0.0, 0.0, 0.0, 0.0, 0.0, 0.0, 0.0, 0.0, 0.0, 0.0, 0.0, 0.0, 0.0, 0.0, 0.0, 0.0, 0.0, 0.0, 0.0, 0.0, 0.0, 0.0, 0.0, 0.0, 0.0, 0.0, 0.0, 0.0, 0.0, 0.0, 0.0, 0.0, 0.0, 0.0, 0.0, 0.0, 0.0, 0.0, 0.0, 0.0, 0.0, 0.0, 0.0, 0.0, 0.0, 0.0, 0.0, 0.0, 0.0, 0.0, 0.0, 0.0, 0.0, 0.0, 0.0, 0.0, 0.0, 0.0, 0.0, 0.0, 0.0, 0.0, 0.0, 0.0, 0.0, 0.0, 0.0, 0.0, 0.0, 0.0, 0.0, 0.0, 0.0, 0.0, 0.0, 0.0, 0.0, 0.0, 0.0, 0.0, 0.0, 0.0, 0.0, 0.0, 0.0, 0.0, 0.0, 0.0, 0.0, 0.0, 0.0, 0.0, 0.0, 0.0, 0.0, 0.0, 0.0, 0.0, 0.0, 0.0, 0.0, 0.0, 0.0, 0.0, 0.0, 0.0, 0.0, 0.0, 0.0, 0.0, 0.0, 0.0, 0.0, 0.0, 0.0, 0.0, 0.0, 0.0, 0.0, 0.0, 0.0, 0.0, 0.0, 0.0, 0.0, 0.0, 0.0, 0.0, 0.0, 0.0, 0.0, 0.0, 0.0, 0.0, 0.0, 0.0, 0.0, 0.0, 0.0, 0.0, 0.0, 0.0, 0.0, 0.0, 0.0, 0.0, 0.0, 0.0, 0.0, 0.0, 0.0, 0.0, 0.0, 0.0, 0.0, 0.0, 0.0, 0.0, 0.0, 0.0, 0.0, 0.0, 0.0, 0.0, 0.0, 0.0, 0.0, 0.0, 0.0, 0.0, 0.0, 0.0, 0.0, 0.0, 0.0, 0.0, 0.0, 0.0, 0.0, 0.0, 0.0, 0.0, 0.0, 0.0, 0.0, 0.0, 0.0, 0.0, 0.0, 0.0, 0.0, 0.0, 0.0, 0.0, 0.0, 0.0, 0.0, 0.0, 0.0, 0.0, 0.0, 0.0, 0.0, 0.0, 0.0, 0.0, 0.0, 0.0, 0.0, 0.0, 0.0, 0.0, 0.0, 0.0, 0.0, 0.0, 0.0, 0.0, 0.0, 0.0, 0.0, 0.0, 0.0, 0.0, 0.0, 0.0, 0.0, 0.0, 0.0, 0.0, 0.0, 0.0, 0.0, 0.0, 0.0, 0.0, 0.0, 0.0, 0.0, 0.0, 0.0, 0.0, 0.0, 0.0, 0.0, 0.0, 0.0, 0.0, 0.0, 0.0, 0.0, 0.0, 0.0, 0.0, 0.0, 0.0, 0.0, 0.0, 0.0, 0.0, 0.0, 0.0, 0.0, 0.0, 0.0, 0.0, 0.0, 0.0, 0.0, 0.0, 0.0, 0.0, 0.0, 0.0, 0.0, 0.0, 0.0, 0.0, 0.0, 0.0, 0.0, 0.0, 0.0, 0.0, 0.0, 0.0, 0.0, 0.0, 0.0, 0.0, 0.0, 0.0, 0.0, 0.0, 0.0, 0.0, 0.0, 0.0, 0.0, 0.0, 0.0, 0.0, 0.0, 0.0, 0.0, 0.0, 0.0, 0.0, 0.0, 0.0, 0.0, 0.0, 0.0, 0.0, 0.0, 0.0, 0.0, 0.0, 0.0, 0.0, 0.0, 0.0, 0.0, 0.0, 0.0, 0.0, 0.0, 0.0, 0.0, 0.0, 0.0, 0.0, 0.0, 0.0, 0.0, 0.0, 0.0, 0.0, 0.0, 0.0, 0.0, 0.0, 0.0, 0.0, 0.0, 0.0, 0.0, 0.0, 0.0, 0.0, 0.0, 0.0, 0.0, 0.0, 0.0, 2.5399059164184044, 2.5399059164184044, 2.747856478772353, 2.747856478772353, 2.787512733467576, 2.787512733467576, 2.9199768741219208, 2.9199768741219208, 2.982168931563201, 2.982168931563201, 3.0602947975423644, 3.0602947975423644, 3.0955775861005317, 3.0955775861005317, 3.764371138696522, 3.764371138696522, 3.8694227609486593, 3.8694227609486593, 3.9450360331118985, 3.9450360331118985, 4.110875055407459, 4.110875055407459, 4.129515702417422, 4.129515702417422, 4.129566218871383, 4.129566218871383, 4.330017336891171, 4.330017336891171, 4.441316607653475, 4.441316607653475, 4.443934005610761, 4.443934005610761, 5.2210797845757515, 5.2210797845757515, 5.259593104509149, 5.259593104509149, 5.295698886356904, 5.295698886356904, 5.462266260738566, 5.462266260738566, 5.670538013126928, 5.670538013126928, 6.2033139371581765, 6.2033139371581765, 6.269288352164023, 6.269288352164023, 6.335335175728654, 6.335335175728654, 6.365448950693135, 6.365448950693135, 6.496995729756951, 6.496995729756951, 6.611502773815385, 6.611502773815385, 6.614337834685672, 6.614337834685672, 6.675236886593023, 6.675236886593023, 6.878558119840236, 6.878558119840236, 7.2226506654900735, 7.2226506654900735, 7.250875931385705, 7.250875931385705, 7.456276823335002, 7.456276823335002, 7.567160365208791, 7.567160365208791, 7.695932246451525, 7.695932246451525, 7.739515147068858, 7.739515147068858, 7.825620299675004, 7.825620299675004, 7.845930556003438, 7.845930556003438, 7.968411604430148, 7.968411604430148, 8.076210288817107, 8.076210288817107, 8.118496351486034, 8.118496351486034, 8.136642766581339, 8.136642766581339, 8.493035618116549, 8.493035618116549, 8.54021543260105, 8.54021543260105, 8.54848917691714, 8.54848917691714, 8.570051240671743, 8.570051240671743, 8.621101542636152, 8.621101542636152, 8.625238660654926, 8.625238660654926, 8.643115310741948, 8.643115310741948, 8.774502944453106, 8.774502944453108, 8.952787609434996, 8.952787609434996, 9.095454183644861, 9.095454183644861, 9.318699532357156, 9.318699532357156, 9.515210896422063, 9.515210896422063, 9.578060075655094, 9.578060075655094, 9.68779069281982, 9.68779069281982, 10.020953070083019, 10.020953070083019, 10.207238102110047, 10.207238102110047, 10.216200934381284, 10.216200934381284, 10.226982974288276, 10.226982974288276, 10.367432010284974, 10.367432010284974, 10.404610818291196, 10.404610818291196, 10.53115980942387, 10.53115980942387, 10.55250917326531, 10.55250917326531, 10.553983420270708, 10.553983420270708, 10.708769653511741, 10.708769653511741, 10.862379177308727, 10.862379177308727, 10.975240174843002, 10.975240174843002, 10.996651288234828, 10.996651288234828, 11.03799478751347, 11.03799478751347, 11.136281000681088, 11.136281000681088, 11.3270084329536, 11.3270084329536, 11.43515327326701, 11.43515327326701, 11.435264467411166, 11.435264467411166, 11.441998849919592, 11.441998849919592, 11.461366050223614, 11.461366050223614, 11.59046572003576, 11.59046572003576, 11.618338674324088, 11.618338674324088, 11.681642046715378, 11.681642046715378, 11.759047627850043, 11.759047627850043, 11.97305648631457, 11.97305648631457, 12.039148316706854, 12.039148316706854, 12.224738380669786, 12.224738380669786, 12.2338232587485, 12.2338232587485, 12.422131100086492, 12.422131100086492, 12.567584374621124, 12.567584374621124, 12.650205315542479, 12.650205315542479, 12.709132494644818, 12.709132494644818, 12.743549422781921, 12.743549422781921, 12.771336721864875, 12.771336721864875, 12.813378969511955, 12.813378969511955, 12.88269866976569, 12.88269866976569, 12.989340724360677, 12.989340724360677, 13.10037982115345, 13.10037982115345, 13.225465232455402, 13.225465232455402, 13.231600387893918, 13.231600387893918, 13.233629593750688, 13.233629593750688, 13.398357609209322, 13.398357609209322, 13.505347650426929, 13.505347650426929, 13.640019409915427, 13.640019409915427, 13.656055273605658, 13.656055273605658, 13.815990936844816, 13.815990936844816, 13.885557216813957, 13.885557216813957, 13.989907215715622, 13.989907215715622, 14.010032227219883, 14.010032227219883, 14.0219852163073, 14.0219852163073, 14.233288637565687, 14.233288637565687, 14.271550073424013, 14.271550073424013, 14.439055153307384, 14.439055153307384, 14.576749325709022, 14.576749325709022, 14.746861503459899, 14.746861503459899, 14.917828530049537, 14.917828530049537, 14.966205821633329, 14.966205821633329, 14.972354413285807, 14.972354413285807, 14.996669624196763, 14.996669624196763, 15.009221095884316, 15.009221095884316, 15.024636599722273, 15.024636599722273, 15.031795287910768, 15.031795287910768, 15.05450920510961, 15.05450920510961, 15.123884688160615, 15.123884688160615, 15.305888219270265, 15.305888219270265, 15.43294431478755, 15.43294431478755, 15.582253644872194, 15.582253644872194, 15.702073703623109, 15.702073703623109, 15.768759739566935, 15.768759739566935, 15.906231428569841, 15.906231428569841, 15.974104532829916, 15.974104532829916, 16.00927867098322, 16.00927867098322, 16.08876038288119, 16.08876038288119, 16.113830134873776, 16.113830134873776, 16.388150539816607, 16.388150539816607, 16.433377086810648, 16.433377086810648, 16.4663811173457, 16.4663811173457, 17.253112842243446, 17.253112842243446, 17.31455310783467, 17.31455310783467, 17.380547433244466, 17.380547433244466, 17.59139474153849, 17.59139474153849, 17.654107849313444, 17.654107849313444, 18.097628195299386, 18.097628195299386, 18.17276355950344, 18.17276355950344, 18.24247181252581, 18.24247181252581, 18.29334266307399, 18.29334266307399, 18.305908690554066, 18.305908690554066, 18.326706553284176, 18.326706553284176, 18.339113168945914, 18.339113168945914, 18.428707541104643, 18.428707541104643, 18.45193054017026, 18.45193054017026, 18.502465739454628, 18.502465739454628, 18.713166121082192, 18.713166121082192, 18.799685430910518, 18.799685430910518, 18.887172379538903, 18.887172379538903, 18.94765562228048, 18.94765562228048, 18.98453280616712, 18.98453280616712, 19.125077732003028, 19.125077732003028, 19.499057022399732, 19.499057022399732, 19.540196486300644, 19.540196486300644, 19.575884770646166, 19.575884770646166, 19.696482248297947, 19.696482248297947, 19.706481016937918, 19.706481016937918, 19.8448845335454, 19.8448845335454, 19.960332285709896, 19.960332285709896, 20.11299325922995, 20.11299325922995, 20.25224610303724, 20.25224610303724, 20.323132844814634, 20.323132844814634, 20.408269948451235, 20.408269948451235, 20.503328359543715, 20.503328359543715, 20.632012233011334, 20.632012233011334, 20.637395174944327, 20.637395174944327, 20.78767906520966, 20.78767906520966, 20.99010623775924, 20.99010623775924, 21.207037543155945, 21.207037543155945, 21.338029138136942, 21.338029138136942, 21.354538764286815, 21.354538764286815, 21.868081128322537, 21.868081128322537, 21.97029264990516, 21.97029264990516, 21.983966315357865, 21.983966315357865, 22.135584172299012, 22.135584172299012, 22.473493510475826, 22.473493510475826, 22.620671099295567, 22.620671099295567, 22.76390504955275, 22.76390504955275, 23.023923146380014, 23.023923146380014, 23.125836993868823, 23.125836993868823, 23.290682995091142, 23.290682995091142, 23.303924814274623, 23.303924814274623, 23.73158205915138, 23.73158205915138, 23.776698864780524, 23.776698864780524, 24.067192539973025, 24.067192539973025, 24.11801988592233, 24.11801988592233, 24.133323460720344, 24.133323460720344, 24.315987402318815, 24.315987402318815, 24.642624079697203, 24.642624079697203, 24.926216216507115, 24.926216216507115, 25.000061408381853, 25.000061408381853, 25.01286311888908, 25.01286311888908, 25.35292173941459, 25.35292173941459, 25.542047696522864, 25.542047696522864, 25.57938730290151, 25.57938730290151, 25.74282892935329, 25.74282892935329, 25.867624772303984, 25.867624772303984, 25.884473427944002, 25.884473427944002, 25.94636144421066, 25.94636144421066, 26.15930804009696, 26.15930804009696, 26.25916444349506, 26.25916444349506, 26.262391234541195, 26.262391234541195, 26.794762270189896, 26.794762270189896, 26.82534574222291, 26.82534574222291, 26.853660293895445, 26.853660293895445, 26.89994580835472, 26.89994580835472, 26.961174590220473, 26.961174590220473, 27.02012985113413, 27.02012985113413, 27.04949630194307, 27.04949630194307, 27.06260681711638, 27.062606817116382, 27.130874838180684, 27.130874838180684, 27.180767875456702, 27.180767875456702, 27.289586378484227, 27.289586378484227, 27.321878667659888, 27.321878667659888, 27.357236753368067, 27.35723675336807, 27.44802948414072, 27.44802948414072, 27.530316509815417, 27.530316509815417, 27.53547210046522, 27.535472100465224, 27.597251820152938, 27.597251820152938, 27.761381546675743, 27.761381546675743, 27.96583828950843, 27.96583828950843, 28.091376353994626, 28.091376353994626, 28.33600367307382, 28.33600367307382, 28.398821189149345, 28.398821189149345, 28.510637938728447, 28.510637938728447, 28.517837147569217, 28.517837147569217, 28.586686296270596, 28.586686296270596, 28.636674127032176, 28.636674127032176, 28.674489526045413, 28.674489526045413, 29.029021159335887, 29.029021159335887, 29.11766341285677, 29.11766341285677, 29.408681921676287, 29.408681921676287, 29.682108981178832, 29.682108981178832, 29.71771750732041, 29.71771750732041, 29.75953777084534, 29.75953777084534, 29.901970811677167, 29.901970811677167, 29.910280484780507, 29.910280484780507, 30.18367199764823, 30.18367199764823, 30.598043361190452, 30.598043361190452, 30.619337502741764, 30.619337502741764, 30.67429435284507, 30.67429435284507, 30.696396356252805, 30.696396356252805, 30.965969076254094, 30.965969076254094, 30.98623614982351, 30.98623614982351, 31.055310520626797, 31.055310520626797, 31.075318646783213, 31.075318646783213, 31.252248178833756, 31.252248178833756, 31.338749241596155, 31.338749241596155, 31.37508379317464, 31.37508379317464, 31.45272368162567, 31.45272368162567, 31.54028165936451, 31.54028165936451, 31.75118384899457, 31.75118384899457, 31.776378856582756, 31.776378856582756, 31.823478089161274, 31.823478089161274, 31.954681186195273, 31.954681186195273, 32.04902977292224, 32.04902977292224, 32.062685935602694, 32.062685935602694, 32.14946699014197, 32.149466990141974, 32.37058630468729, 32.37058630468729, 32.419894575280466, 32.419894575280466, 32.48575267581402, 32.48575267581402, 32.67472835354659, 32.67472835354659, 32.77795385251852, 32.77795385251852, 32.83434142375391, 32.83434142375391, 32.865452200987185, 32.865452200987185, 32.97989452002508, 32.97989452002508, 33.092957960993566, 33.092957960993566, 33.099348026632654, 33.099348026632654, 33.14362346210371, 33.14362346210371, 33.216084723013914, 33.216084723013914, 33.30293998479664, 33.30293998479664, 33.63992759443264, 33.63992759443264, 33.71871659465085, 33.71871659465085, 33.75368358168483, 33.75368358168483, 33.75523426119303, 33.75523426119303, 34.11349941917379, 34.11349941917379, 34.29846313633265, 34.29846313633265, 34.62982529461774, 34.62982529461774, 34.63100170970121, 34.63100170970121, 34.664978038697555, 34.664978038697555, 34.722230740801784, 34.722230740801784, 35.27498278164054, 35.27498278164054, 35.471497376534614, 35.471497376534614, 35.48096140305075, 35.48096140305075, 35.65783633885791, 35.65783633885791, 35.949631514240465, 35.94963151424047, 36.077301233397804, 36.077301233397804, 36.23061285446531, 36.23061285446531, 36.4810077924098, 36.4810077924098, 36.51517118561163, 36.51517118561163, 36.52941496101697, 36.52941496101697, 36.53229548566367, 36.53229548566367, 36.5982808982883, 36.5982808982883, 36.924309379852474, 36.924309379852474, 37.01258067904836, 37.01258067904836, 37.03985506320081, 37.03985506320081, 37.35190247542536, 37.35190247542536, 37.87411390794422, 37.87411390794422, 38.059765924997095, 38.059765924997095, 38.14542701981509, 38.14542701981509, 38.33747042411655, 38.33747042411655, 38.434733475688425, 38.434733475688425, 38.648489501277375, 38.648489501277375, 38.673771598017, 38.673771598017, 38.70733507726038, 38.70733507726038, 38.92207223314185, 38.92207223314185, 38.93383275878106, 38.933832758781065, 39.02053245766472, 39.02053245766473, 39.068172458564085, 39.068172458564085, 39.152802249691625, 39.152802249691625, 39.1630185643011, 39.1630185643011, 39.37714688840833, 39.37714688840833, 39.404991654824855, 39.404991654824855, 39.48362450299701, 39.48362450299701, 39.65612722705335, 39.65612722705335, 40.07727967670546, 40.07727967670546, 40.08944062826761, 40.08944062826761, 40.20301670626976, 40.20301670626976, 40.370889613609066, 40.370889613609066, 40.483028398705756, 40.483028398705756, 40.85602687770582, 40.85602687770582, 41.134054135443876, 41.134054135443876, 41.171747433276565, 41.171747433276565, 41.19089991479734, 41.19089991479734, 41.42809350670795, 41.42809350670795, 41.52304110016854, 41.52304110016854, 41.53433773191057, 41.53433773191057, 41.590393990603445, 41.590393990603445, 41.636712667015644, 41.636712667015644, 41.63777806757444, 41.637778067574445, 41.66937700069144, 41.66937700069144, 42.442363170562246, 42.442363170562246, 42.52292383475002, 42.52292383475002, 42.63821509658192, 42.63821509658192, 42.8748672405534, 42.8748672405534, 42.88747423382057, 42.88747423382057, 42.88841441266271, 42.88841441266272, 42.947778547412625, 42.947778547412625, 42.97627591686414, 42.97627591686414, 43.30401115279758, 43.30401115279758, 43.3168546864947, 43.3168546864947, 43.389677621119226, 43.389677621119226, 43.46607857894602, 43.46607857894602, 43.54360447753457, 43.54360447753457, 43.64936489018225, 43.64936489018225, 43.85530428990141, 43.85530428990141, 44.509024221673954, 44.509024221673954, 44.52627594496976, 44.52627594496976, 44.60791329522898, 44.60791329522898, 44.71651418769469, 44.7165141876947, 44.78134119890697, 44.78134119890697, 44.799864947086924, 44.799864947086924, 45.06595491191926, 45.06595491191927, 45.194326798035476, 45.194326798035476, 45.225802642055186, 45.22580264205519, 45.23246467360145, 45.232464673601456, 45.2969824664333, 45.2969824664333, 45.30298468511452, 45.30298468511452, 45.425055145131786, 45.425055145131786, 45.43902787428146, 45.439027874281464, 45.71248250832747, 45.71248250832747, 45.760747995544904, 45.760747995544904, 45.911123363383716, 45.911123363383716, 45.91221667356021, 45.91221667356021, 46.050317221074735, 46.050317221074735, 46.2082010700403, 46.2082010700403, 46.329822010944035, 46.329822010944035, 46.52603009390997, 46.52603009390997, 46.56536657178253, 46.56536657178253, 46.60326121114246, 46.60326121114247, 46.751651587933615, 46.751651587933615, 46.773345109607305, 46.77334510960731, 46.82662094535537, 46.82662094535537, 46.85281414324618, 46.85281414324618, 47.14882516514722, 47.14882516514722, 47.63945186831674, 47.63945186831674, 47.75116136540277, 47.75116136540277, 47.75241730031337, 47.75241730031337, 47.7658419464229, 47.7658419464229, 47.88629659736536, 47.88629659736536, 48.03785150941113, 48.03785150941113, 48.16831091314072, 48.16831091314072, 48.177728414721614, 48.177728414721614, 48.18063975240966, 48.18063975240966, 48.23460307184959, 48.23460307184959, 48.30794118559287, 48.30794118559287, 48.384668588873666, 48.384668588873666, 48.62843322019298, 48.62843322019298, 48.8324030990093, 48.8324030990093, 48.8342519910165, 48.8342519910165, 48.86944179720509, 48.86944179720509, 48.960639164567056, 48.960639164567056, 49.088102102997595, 49.0881021029976, 49.09682032436881, 49.09682032436881, 49.1910326859916, 49.1910326859916, 49.22864740279724, 49.22864740279724, 49.33521707832794, 49.33521707832794, 49.45457443331999, 49.45457443331999, 49.49977962508609, 49.49977962508609, 49.5993981512601, 49.599398151260104, 49.74024599651726, 49.74024599651726, 50.014765325979326, 50.014765325979326, 50.10279340912864, 50.10279340912864, 50.40886247848667, 50.40886247848667, 50.48746283287744, 50.48746283287744, 50.53568670213778, 50.53568670213778, 50.91918801043748, 50.91918801043748, 50.96424984713606, 50.96424984713606, 51.071432283132424, 51.071432283132424, 51.14018394035453, 51.14018394035454, 51.330852193199135, 51.330852193199135, 51.391371129634145, 51.391371129634145, 51.631977355516945, 51.63197735551695, 51.77543159005081, 51.77543159005081, 51.994660109486325, 51.99466010948633, 52.01602891462413, 52.01602891462413, 52.19853107756718, 52.19853107756718, 52.31157265623098, 52.31157265623098, 52.41938086999213, 52.41938086999213, 52.4417068148921, 52.4417068148921, 52.634984428140726, 52.63498442814073, 52.66299115671586, 52.66299115671586, 52.69237081855789, 52.69237081855789, 52.74409459404884, 52.74409459404884, 52.852614492503385, 52.852614492503385, 53.035376927310324, 53.035376927310324, 53.63754620175092, 53.63754620175092, 53.75740008927944, 53.75740008927944, 53.77942251067384, 53.77942251067384, 53.8299507374466, 53.8299507374466, 53.99075875004669, 53.99075875004669, 54.05063806679585, 54.05063806679585, 54.21443749599473, 54.21443749599473, 54.249449515611374, 54.249449515611374, 54.33551947929266, 54.33551947929266, 54.508843087372455, 54.508843087372455, 54.52280527531929, 54.52280527531929, 54.61041411001372, 54.61041411001372, 54.61897995662173, 54.61897995662173, 54.632210565469, 54.632210565469, 54.962689617933016, 54.962689617933016, 55.04765259379807, 55.04765259379808, 55.09053797221539, 55.09053797221539, 55.15211843936591, 55.15211843936591, 55.190097899236, 55.190097899236, 55.40432241486405, 55.40432241486405, 55.49640316880216, 55.49640316880216, 55.51195076496061, 55.51195076496061, 55.62349865266931, 55.62349865266931, 55.667335513840385, 55.667335513840385, 56.13248124917145, 56.13248124917145, 56.166086972296654, 56.166086972296654, 56.2349703668067, 56.2349703668067, 56.51003860240917, 56.51003860240917, 56.56731438975946, 56.56731438975946, 56.71971625161987, 56.71971625161987, 57.01493077646618, 57.01493077646618, 57.87701083650633, 57.87701083650633, 57.91541770896889, 57.915417708968896, 58.065039329476804, 58.06503932947681, 58.132546483856004, 58.132546483856004, 58.17875075492043, 58.178750754920436, 58.260959705193706, 58.260959705193706, 58.323330563565584, 58.323330563565584, 58.49611792635188, 58.49611792635188, 58.509346248413266, 58.509346248413266, 58.6219018070975, 58.6219018070975, 58.692503683075785, 58.692503683075785, 59.31671482263603, 59.31671482263603, 59.61596915049324, 59.61596915049324, 59.619345664474515, 59.61934566447452, 59.62257466650286, 59.62257466650286, 59.762973276644445, 59.762973276644445, 59.78399819023252, 59.78399819023252, 59.89536357225196, 59.89536357225196, 60.02523747104196, 60.02523747104196, 60.172026026412915, 60.17202602641292, 60.22532819259283, 60.22532819259283, 60.39467383369111, 60.39467383369111, 60.450706299910394, 60.450706299910394, 60.56556265178076, 60.56556265178076, 60.673286239281765, 60.67328623928177, 60.776466824614914, 60.776466824614914, 60.81329738610146, 60.81329738610146, 60.82958892286517, 60.82958892286517, 61.06002962994052, 61.06002962994052, 61.43489462150927, 61.43489462150927, 61.48785838783161, 61.48785838783161, 61.51825444227923, 61.51825444227923, 61.74373209571175, 61.74373209571175, 61.83801697799338, 61.83801697799338, 61.85817083767941, 61.85817083767941, 62.22538668968847, 62.22538668968847, 62.3106135465189, 62.3106135465189, 62.35041873606479, 62.35041873606479, 62.388984497997846, 62.388984497997846, 62.57566492731699, 62.57566492731699, 62.740701490886835, 62.740701490886835, 62.755763953301354, 62.755763953301354, 63.05945156726409, 63.0594515672641, 63.26902861363774, 63.26902861363774, 63.33815451038268, 63.33815451038268, 63.403949436261044, 63.403949436261044, 63.42980614932653, 63.42980614932653, 63.57754957443493, 63.57754957443493, 63.66746686242045, 63.66746686242045, 63.73871352638538, 63.73871352638538, 63.941489410237935, 63.941489410237935, 64.00459665706178, 64.00459665706178, 64.04596184319568, 64.04596184319568, 64.048602194446, 64.048602194446, 64.1116494152163, 64.1116494152163, 64.12612093715094, 64.12612093715094, 64.56617194106248, 64.56617194106248, 64.57345374055677, 64.57345374055677, 64.62273079684421, 64.62273079684421, 64.65138939526108, 64.65138939526108, 64.90663838760332, 64.90663838760332, 64.91169377488679, 64.91169377488679, 64.9200568803833, 64.9200568803833, 65.16178459502741, 65.16178459502741, 65.51352748650186, 65.51352748650187, 65.62065389419773, 65.62065389419773, 65.69199899385757, 65.69199899385757, 65.76690092971907, 65.76690092971909, 65.7801424672531, 65.7801424672531, 65.8592838269683, 65.8592838269683, 66.23902088893115, 66.23902088893117, 66.3570644453123, 66.3570644453123, 66.35806642156953, 66.35806642156953, 66.42240566521156, 66.42240566521156, 66.46993905890011, 66.46993905890011, 66.50862321548114, 66.50862321548114, 66.6191103150598, 66.6191103150598, 67.02450301727303, 67.02450301727303, 67.23538181910425, 67.23538181910425, 67.44445465898043, 67.44445465898043, 67.61166107248525, 67.61166107248525, 67.67185981379185, 67.67185981379187, 67.81568409245916, 67.81568409245916, 67.84158148234296, 67.84158148234296, 67.87633170450522, 67.87633170450522, 67.99485223598555, 67.99485223598555, 68.08312182775526, 68.08312182775526, 68.0859964253071, 68.0859964253071, 68.17280350818321, 68.17280350818321, 68.17471191620812, 68.17471191620812, 68.18084815380254, 68.18084815380254, 68.21789196089593, 68.21789196089593, 68.27130159354105, 68.27130159354105, 68.27653824307774, 68.27653824307775, 68.61279364931661, 68.61279364931661, 68.65739244270108, 68.65739244270108, 68.72786584798669, 68.72786584798669, 68.82660742936726, 68.82660742936727, 68.98866634817676, 68.98866634817676, 69.02128387507372, 69.02128387507373, 69.14780712365327, 69.14780712365327, 69.74908964448781, 69.74908964448781, 69.85458797242505, 69.85458797242505, 69.94670071852616, 69.94670071852616, 69.9753776009584, 69.9753776009584, 70.32888106319838, 70.32888106319838, 70.37469228340768, 70.37469228340768, 70.41900333146573, 70.41900333146573, 70.43340014909597, 70.43340014909597, 70.71866383493241, 70.71866383493241, 70.72012564731472, 70.72012564731472, 70.87316127937476, 70.87316127937476, 70.87404303237788, 70.87404303237788, 70.96847820523774, 70.96847820523774, 71.09268312640292, 71.09268312640292, 71.34187192203598, 71.34187192203598, 71.43030802496824, 71.43030802496824, 71.50336448530645, 71.50336448530645, 71.68850983476389, 71.68850983476389, 71.70709749996703, 71.70709749996703, 71.73690837642711, 71.73690837642711, 71.99574885113226, 71.99574885113226, 72.07721719672307, 72.07721719672307, 72.13669735666745, 72.13669735666745, 72.27024724581122, 72.27024724581122, 72.47229452864046, 72.47229452864046, 72.59723698752421, 72.59723698752421, 73.04794551782349, 73.04794551782349, 73.45947785518393, 73.45947785518393, 73.70695295343513, 73.70695295343515, 73.73563831016857, 73.73563831016858]\n"
     ]
    }
   ],
   "source": [
    "borders = check_small_boundary_lengths(vest_base)\n",
    "print(borders[3000:6000])"
   ]
  },
  {
   "cell_type": "code",
   "execution_count": 30,
   "metadata": {},
   "outputs": [
    {
     "name": "stdout",
     "output_type": "stream",
     "text": [
      "Snapping all geometries to a grid with precision 10^( -5 ) to avoid GEOS errors.\n",
      "Identifying overlaps...\n"
     ]
    },
    {
     "name": "stderr",
     "output_type": "stream",
     "text": [
      "100%|███████████████████████████████████| 10788/10788 [00:02<00:00, 3716.70it/s]\n"
     ]
    },
    {
     "name": "stdout",
     "output_type": "stream",
     "text": [
      "Resolving overlaps...\n",
      "Filling gaps...\n"
     ]
    },
    {
     "name": "stderr",
     "output_type": "stream",
     "text": [
      "Gaps to simplify: 0it [00:00, ?it/s]\n",
      "Gaps to fill: 0it [00:00, ?it/s]"
     ]
    },
    {
     "name": "stdout",
     "output_type": "stream",
     "text": [
      "Converting small rook adjacencies to queen...\n"
     ]
    },
    {
     "name": "stderr",
     "output_type": "stream",
     "text": [
      "\n",
      "100%|█████████████████████████████████████| 8941/8941 [00:04<00:00, 1880.89it/s]\n",
      "100%|███████████████████████████████████████████| 5/5 [00:00<00:00, 3373.80it/s]\n",
      "100%|███████████████████████████████████████████| 4/4 [00:00<00:00, 3327.49it/s]\n",
      "100%|███████████████████████████████████████████| 4/4 [00:00<00:00, 3051.51it/s]\n",
      "100%|███████████████████████████████████████████| 4/4 [00:00<00:00, 2772.64it/s]\n",
      "100%|███████████████████████████████████████████| 4/4 [00:00<00:00, 3378.42it/s]\n",
      "100%|███████████████████████████████████████████| 4/4 [00:00<00:00, 3524.63it/s]\n",
      "100%|███████████████████████████████████████████| 4/4 [00:00<00:00, 3235.72it/s]\n",
      "100%|███████████████████████████████████████████| 4/4 [00:00<00:00, 3497.44it/s]\n",
      "100%|███████████████████████████████████████████| 4/4 [00:00<00:00, 3144.75it/s]\n",
      "100%|███████████████████████████████████████████| 4/4 [00:00<00:00, 3137.10it/s]\n",
      "100%|███████████████████████████████████████████| 5/5 [00:00<00:00, 3194.93it/s]\n",
      "100%|███████████████████████████████████████████| 4/4 [00:00<00:00, 3112.66it/s]\n",
      "100%|███████████████████████████████████████████| 5/5 [00:00<00:00, 3492.34it/s]\n",
      "100%|███████████████████████████████████████████| 4/4 [00:00<00:00, 3454.23it/s]\n",
      "100%|███████████████████████████████████████████| 4/4 [00:00<00:00, 3577.99it/s]\n",
      "100%|███████████████████████████████████████████| 4/4 [00:00<00:00, 3278.08it/s]\n",
      "100%|███████████████████████████████████████████| 6/6 [00:00<00:00, 3682.98it/s]\n",
      "100%|███████████████████████████████████████████| 4/4 [00:00<00:00, 3050.96it/s]\n",
      "100%|███████████████████████████████████████████| 5/5 [00:00<00:00, 3545.48it/s]\n",
      "100%|███████████████████████████████████████████| 4/4 [00:00<00:00, 3401.71it/s]\n",
      "100%|███████████████████████████████████████████| 4/4 [00:00<00:00, 2842.63it/s]\n",
      "100%|███████████████████████████████████████████| 6/6 [00:00<00:00, 3771.29it/s]\n",
      "100%|███████████████████████████████████████████| 5/5 [00:00<00:00, 2967.11it/s]\n",
      "100%|███████████████████████████████████████████| 4/4 [00:00<00:00, 3403.78it/s]\n",
      "100%|███████████████████████████████████████████| 4/4 [00:00<00:00, 3140.04it/s]\n",
      "100%|███████████████████████████████████████████| 4/4 [00:00<00:00, 3144.75it/s]\n",
      "100%|███████████████████████████████████████████| 4/4 [00:00<00:00, 3297.41it/s]\n",
      "100%|███████████████████████████████████████████| 4/4 [00:00<00:00, 3271.05it/s]\n",
      "100%|███████████████████████████████████████████| 5/5 [00:00<00:00, 2937.19it/s]\n",
      "100%|███████████████████████████████████████████| 5/5 [00:00<00:00, 3326.70it/s]\n",
      "100%|███████████████████████████████████████████| 5/5 [00:00<00:00, 3162.17it/s]\n",
      "100%|███████████████████████████████████████████| 6/6 [00:00<00:00, 3660.48it/s]\n",
      "100%|███████████████████████████████████████████| 5/5 [00:00<00:00, 3709.15it/s]\n",
      "100%|███████████████████████████████████████████| 5/5 [00:00<00:00, 3528.78it/s]\n",
      "100%|███████████████████████████████████████████| 4/4 [00:00<00:00, 3530.56it/s]\n",
      "100%|███████████████████████████████████████████| 4/4 [00:00<00:00, 3425.32it/s]\n",
      "100%|███████████████████████████████████████████| 5/5 [00:00<00:00, 3431.20it/s]\n",
      "100%|███████████████████████████████████████████| 4/4 [00:00<00:00, 3424.62it/s]\n",
      "100%|███████████████████████████████████████████| 5/5 [00:00<00:00, 3676.63it/s]\n",
      "100%|███████████████████████████████████████████| 4/4 [00:00<00:00, 3265.32it/s]\n",
      "100%|███████████████████████████████████████████| 5/5 [00:00<00:00, 3681.15it/s]\n",
      "100%|███████████████████████████████████████████| 4/4 [00:00<00:00, 3332.78it/s]\n",
      "100%|███████████████████████████████████████████| 4/4 [00:00<00:00, 2789.23it/s]\n",
      "100%|███████████████████████████████████████████| 4/4 [00:00<00:00, 3336.09it/s]\n",
      "100%|███████████████████████████████████████████| 4/4 [00:00<00:00, 3344.74it/s]\n",
      "100%|███████████████████████████████████████████| 4/4 [00:00<00:00, 3141.80it/s]\n",
      "100%|███████████████████████████████████████████| 4/4 [00:00<00:00, 3122.50it/s]\n",
      "100%|███████████████████████████████████████████| 4/4 [00:00<00:00, 3539.50it/s]\n",
      "100%|███████████████████████████████████████████| 4/4 [00:00<00:00, 2696.87it/s]\n",
      "100%|███████████████████████████████████████████| 4/4 [00:00<00:00, 3088.59it/s]\n",
      "100%|███████████████████████████████████████████| 4/4 [00:00<00:00, 3809.54it/s]\n",
      "100%|███████████████████████████████████████████| 4/4 [00:00<00:00, 3077.26it/s]\n",
      "100%|███████████████████████████████████████████| 5/5 [00:00<00:00, 3001.51it/s]\n",
      "100%|███████████████████████████████████████████| 4/4 [00:00<00:00, 3147.10it/s]\n",
      "100%|███████████████████████████████████████████| 5/5 [00:00<00:00, 3337.29it/s]\n",
      "100%|███████████████████████████████████████████| 4/4 [00:00<00:00, 3241.97it/s]\n",
      "100%|███████████████████████████████████████████| 5/5 [00:00<00:00, 3412.78it/s]\n",
      "100%|███████████████████████████████████████████| 3/3 [00:00<00:00, 2846.17it/s]\n",
      "100%|███████████████████████████████████████████| 4/4 [00:00<00:00, 2525.17it/s]\n",
      "100%|███████████████████████████████████████████| 4/4 [00:00<00:00, 2661.36it/s]\n",
      "100%|███████████████████████████████████████████| 4/4 [00:00<00:00, 2407.75it/s]\n",
      "100%|███████████████████████████████████████████| 4/4 [00:00<00:00, 2886.15it/s]\n",
      "100%|███████████████████████████████████████████| 6/6 [00:00<00:00, 3131.25it/s]\n",
      "100%|███████████████████████████████████████████| 4/4 [00:00<00:00, 3027.29it/s]\n",
      "100%|███████████████████████████████████████████| 4/4 [00:00<00:00, 2957.90it/s]\n",
      "100%|███████████████████████████████████████████| 5/5 [00:00<00:00, 2875.17it/s]\n",
      "100%|███████████████████████████████████████████| 5/5 [00:00<00:00, 3201.27it/s]\n",
      "100%|███████████████████████████████████████████| 4/4 [00:00<00:00, 2873.80it/s]\n",
      "100%|███████████████████████████████████████████| 5/5 [00:00<00:00, 3259.48it/s]\n",
      "100%|███████████████████████████████████████████| 5/5 [00:00<00:00, 3337.82it/s]\n",
      "100%|███████████████████████████████████████████| 6/6 [00:00<00:00, 3316.97it/s]\n",
      "100%|███████████████████████████████████████████| 5/5 [00:00<00:00, 3434.58it/s]\n",
      "100%|███████████████████████████████████████████| 5/5 [00:00<00:00, 3371.63it/s]\n",
      "100%|███████████████████████████████████████████| 4/4 [00:00<00:00, 3427.42it/s]\n",
      "100%|███████████████████████████████████████████| 4/4 [00:00<00:00, 3257.71it/s]\n",
      "100%|███████████████████████████████████████████| 4/4 [00:00<00:00, 3044.31it/s]\n",
      "100%|███████████████████████████████████████████| 5/5 [00:00<00:00, 2981.45it/s]\n",
      "100%|███████████████████████████████████████████| 5/5 [00:00<00:00, 3428.96it/s]\n",
      "100%|███████████████████████████████████████████| 5/5 [00:00<00:00, 3521.07it/s]\n",
      "100%|███████████████████████████████████████████| 4/4 [00:00<00:00, 3412.78it/s]\n",
      "100%|███████████████████████████████████████████| 4/4 [00:00<00:00, 3353.43it/s]\n",
      "100%|███████████████████████████████████████████| 4/4 [00:00<00:00, 3218.34it/s]\n",
      "100%|███████████████████████████████████████████| 4/4 [00:00<00:00, 3480.75it/s]\n",
      "100%|███████████████████████████████████████████| 5/5 [00:00<00:00, 3339.95it/s]\n",
      "100%|███████████████████████████████████████████| 5/5 [00:00<00:00, 3066.01it/s]\n",
      "100%|███████████████████████████████████████████| 6/6 [00:00<00:00, 3401.25it/s]\n",
      "100%|███████████████████████████████████████████| 4/4 [00:00<00:00, 2812.61it/s]\n",
      "100%|███████████████████████████████████████████| 4/4 [00:00<00:00, 3405.16it/s]\n",
      "100%|███████████████████████████████████████████| 5/5 [00:00<00:00, 3679.21it/s]\n",
      "100%|███████████████████████████████████████████| 4/4 [00:00<00:00, 2967.84it/s]\n",
      "100%|███████████████████████████████████████████| 4/4 [00:00<00:00, 3413.47it/s]\n",
      "100%|███████████████████████████████████████████| 4/4 [00:00<00:00, 3100.58it/s]\n",
      "100%|███████████████████████████████████████████| 4/4 [00:00<00:00, 3226.39it/s]\n",
      "100%|███████████████████████████████████████████| 4/4 [00:00<00:00, 3072.19it/s]\n",
      "100%|███████████████████████████████████████████| 4/4 [00:00<00:00, 2354.04it/s]\n",
      "100%|███████████████████████████████████████████| 5/5 [00:00<00:00, 3384.69it/s]\n",
      "100%|███████████████████████████████████████████| 4/4 [00:00<00:00, 3086.32it/s]\n",
      "100%|███████████████████████████████████████████| 3/3 [00:00<00:00, 2467.24it/s]\n",
      "100%|███████████████████████████████████████████| 3/3 [00:00<00:00, 2067.52it/s]\n",
      "100%|███████████████████████████████████████████| 6/6 [00:00<00:00, 2071.94it/s]\n",
      "100%|███████████████████████████████████████████| 4/4 [00:00<00:00, 2182.26it/s]\n",
      "100%|███████████████████████████████████████████| 4/4 [00:00<00:00, 2833.51it/s]\n",
      "100%|███████████████████████████████████████████| 4/4 [00:00<00:00, 2745.86it/s]\n",
      "100%|███████████████████████████████████████████| 4/4 [00:00<00:00, 2572.40it/s]\n",
      "100%|███████████████████████████████████████████| 3/3 [00:00<00:00, 2318.58it/s]\n",
      "100%|███████████████████████████████████████████| 5/5 [00:00<00:00, 2813.46it/s]\n",
      "100%|███████████████████████████████████████████| 5/5 [00:00<00:00, 2664.07it/s]\n",
      "100%|███████████████████████████████████████████| 5/5 [00:00<00:00, 2847.07it/s]\n",
      "100%|███████████████████████████████████████████| 5/5 [00:00<00:00, 3261.00it/s]\n",
      "100%|███████████████████████████████████████████| 5/5 [00:00<00:00, 2892.22it/s]\n",
      "100%|███████████████████████████████████████████| 4/4 [00:00<00:00, 2671.96it/s]\n",
      "100%|███████████████████████████████████████████| 4/4 [00:00<00:00, 2228.35it/s]\n",
      "100%|███████████████████████████████████████████| 5/5 [00:00<00:00, 2569.41it/s]\n",
      "100%|███████████████████████████████████████████| 5/5 [00:00<00:00, 2235.29it/s]\n",
      "100%|███████████████████████████████████████████| 5/5 [00:00<00:00, 2744.60it/s]\n",
      "100%|███████████████████████████████████████████| 4/4 [00:00<00:00, 2472.33it/s]\n",
      "100%|███████████████████████████████████████████| 4/4 [00:00<00:00, 2560.63it/s]\n",
      "100%|███████████████████████████████████████████| 4/4 [00:00<00:00, 2683.07it/s]\n",
      "100%|███████████████████████████████████████████| 4/4 [00:00<00:00, 3383.87it/s]\n",
      "100%|███████████████████████████████████████████| 4/4 [00:00<00:00, 2594.28it/s]\n",
      "100%|███████████████████████████████████████████| 5/5 [00:00<00:00, 2447.37it/s]\n",
      "100%|███████████████████████████████████████████| 6/6 [00:00<00:00, 3448.32it/s]\n",
      "100%|███████████████████████████████████████████| 5/5 [00:00<00:00, 3019.22it/s]\n",
      "100%|███████████████████████████████████████████| 5/5 [00:00<00:00, 3015.75it/s]\n",
      "100%|███████████████████████████████████████████| 4/4 [00:00<00:00, 2303.93it/s]\n",
      "100%|███████████████████████████████████████████| 6/6 [00:00<00:00, 2702.81it/s]\n",
      "100%|███████████████████████████████████████████| 4/4 [00:00<00:00, 2495.12it/s]\n",
      "100%|███████████████████████████████████████████| 5/5 [00:00<00:00, 2744.24it/s]\n",
      "100%|███████████████████████████████████████████| 4/4 [00:00<00:00, 2828.73it/s]\n",
      "100%|███████████████████████████████████████████| 6/6 [00:00<00:00, 3346.52it/s]\n",
      "100%|███████████████████████████████████████████| 4/4 [00:00<00:00, 2741.82it/s]\n",
      "100%|███████████████████████████████████████████| 4/4 [00:00<00:00, 2779.53it/s]\n",
      "100%|███████████████████████████████████████████| 6/6 [00:00<00:00, 3157.97it/s]\n",
      "100%|███████████████████████████████████████████| 4/4 [00:00<00:00, 2984.74it/s]\n",
      "100%|███████████████████████████████████████████| 5/5 [00:00<00:00, 2788.40it/s]\n",
      "100%|███████████████████████████████████████████| 4/4 [00:00<00:00, 2490.31it/s]\n",
      "100%|███████████████████████████████████████████| 4/4 [00:00<00:00, 2085.68it/s]\n",
      "100%|███████████████████████████████████████████| 5/5 [00:00<00:00, 3020.96it/s]\n",
      "100%|███████████████████████████████████████████| 4/4 [00:00<00:00, 2894.12it/s]\n",
      "100%|███████████████████████████████████████████| 4/4 [00:00<00:00, 2034.84it/s]\n",
      "100%|███████████████████████████████████████████| 4/4 [00:00<00:00, 2770.35it/s]\n",
      "100%|███████████████████████████████████████████| 5/5 [00:00<00:00, 2847.46it/s]\n",
      "100%|███████████████████████████████████████████| 5/5 [00:00<00:00, 2983.15it/s]\n",
      "100%|███████████████████████████████████████████| 3/3 [00:00<00:00, 2358.12it/s]\n",
      "100%|███████████████████████████████████████████| 4/4 [00:00<00:00, 2443.17it/s]\n",
      "100%|███████████████████████████████████████████| 4/4 [00:00<00:00, 2737.80it/s]\n",
      "100%|███████████████████████████████████████████| 4/4 [00:00<00:00, 2774.01it/s]\n",
      "100%|███████████████████████████████████████████| 4/4 [00:00<00:00, 2150.65it/s]\n",
      "100%|███████████████████████████████████████████| 4/4 [00:00<00:00, 2717.40it/s]\n",
      "100%|███████████████████████████████████████████| 4/4 [00:00<00:00, 2990.06it/s]\n",
      "100%|███████████████████████████████████████████| 5/5 [00:00<00:00, 2466.66it/s]\n",
      "100%|███████████████████████████████████████████| 4/4 [00:00<00:00, 2691.68it/s]\n",
      "100%|███████████████████████████████████████████| 4/4 [00:00<00:00, 1961.56it/s]\n",
      "100%|███████████████████████████████████████████| 4/4 [00:00<00:00, 1626.01it/s]\n",
      "100%|███████████████████████████████████████████| 4/4 [00:00<00:00, 2557.11it/s]\n",
      "100%|███████████████████████████████████████████| 4/4 [00:00<00:00, 2635.03it/s]\n",
      "100%|███████████████████████████████████████████| 4/4 [00:00<00:00, 3014.77it/s]\n",
      "100%|███████████████████████████████████████████| 5/5 [00:00<00:00, 3535.92it/s]\n",
      "100%|███████████████████████████████████████████| 4/4 [00:00<00:00, 3096.00it/s]\n",
      "100%|███████████████████████████████████████████| 4/4 [00:00<00:00, 3007.21it/s]\n",
      "100%|███████████████████████████████████████████| 5/5 [00:00<00:00, 3105.05it/s]\n",
      "100%|███████████████████████████████████████████| 4/4 [00:00<00:00, 3260.24it/s]\n",
      "100%|███████████████████████████████████████████| 5/5 [00:00<00:00, 3383.59it/s]\n",
      "100%|███████████████████████████████████████████| 4/4 [00:00<00:00, 3100.58it/s]\n",
      "100%|███████████████████████████████████████████| 4/4 [00:00<00:00, 3225.15it/s]\n",
      "100%|███████████████████████████████████████████| 4/4 [00:00<00:00, 3617.34it/s]\n",
      "100%|███████████████████████████████████████████| 4/4 [00:00<00:00, 3042.11it/s]\n",
      "100%|███████████████████████████████████████████| 4/4 [00:00<00:00, 2464.70it/s]\n",
      "100%|███████████████████████████████████████████| 4/4 [00:00<00:00, 2139.13it/s]\n",
      "100%|███████████████████████████████████████████| 5/5 [00:00<00:00, 3039.35it/s]\n",
      "100%|███████████████████████████████████████████| 4/4 [00:00<00:00, 3129.49it/s]\n",
      "100%|███████████████████████████████████████████| 4/4 [00:00<00:00, 2976.27it/s]\n",
      "100%|███████████████████████████████████████████| 4/4 [00:00<00:00, 2799.47it/s]\n",
      "100%|███████████████████████████████████████████| 5/5 [00:00<00:00, 3084.50it/s]\n",
      "100%|███████████████████████████████████████████| 6/6 [00:00<00:00, 2213.16it/s]\n",
      "100%|███████████████████████████████████████████| 6/6 [00:00<00:00, 3024.01it/s]\n",
      "100%|███████████████████████████████████████████| 4/4 [00:00<00:00, 2520.62it/s]\n",
      "100%|███████████████████████████████████████████| 4/4 [00:00<00:00, 2683.07it/s]\n",
      "100%|███████████████████████████████████████████| 4/4 [00:00<00:00, 2921.33it/s]\n",
      "100%|███████████████████████████████████████████| 7/7 [00:00<00:00, 3079.52it/s]\n",
      "100%|███████████████████████████████████████████| 4/4 [00:00<00:00, 2438.90it/s]\n",
      "100%|███████████████████████████████████████████| 4/4 [00:00<00:00, 2656.72it/s]\n",
      "100%|███████████████████████████████████████████| 4/4 [00:00<00:00, 2312.50it/s]\n",
      "100%|███████████████████████████████████████████| 5/5 [00:00<00:00, 2333.28it/s]\n",
      "100%|███████████████████████████████████████████| 5/5 [00:00<00:00, 2389.92it/s]\n",
      "100%|███████████████████████████████████████████| 5/5 [00:00<00:00, 2604.19it/s]\n",
      "100%|███████████████████████████████████████████| 5/5 [00:00<00:00, 2768.52it/s]\n",
      "100%|███████████████████████████████████████████| 4/4 [00:00<00:00, 2923.88it/s]\n",
      "100%|███████████████████████████████████████████| 4/4 [00:00<00:00, 2638.76it/s]\n",
      "100%|███████████████████████████████████████████| 5/5 [00:00<00:00, 2857.16it/s]\n",
      "100%|███████████████████████████████████████████| 5/5 [00:00<00:00, 3190.56it/s]\n",
      "100%|███████████████████████████████████████████| 5/5 [00:00<00:00, 2726.05it/s]\n",
      "100%|███████████████████████████████████████████| 5/5 [00:00<00:00, 3280.90it/s]\n",
      "100%|███████████████████████████████████████████| 4/4 [00:00<00:00, 2600.72it/s]\n",
      "100%|███████████████████████████████████████████| 4/4 [00:00<00:00, 2515.70it/s]\n",
      "100%|███████████████████████████████████████████| 5/5 [00:00<00:00, 2908.67it/s]\n",
      "100%|███████████████████████████████████████████| 3/3 [00:00<00:00, 2553.35it/s]\n",
      "100%|███████████████████████████████████████████| 3/3 [00:00<00:00, 1639.47it/s]\n",
      "100%|███████████████████████████████████████████| 4/4 [00:00<00:00, 2905.15it/s]\n",
      "100%|███████████████████████████████████████████| 4/4 [00:00<00:00, 2743.17it/s]\n",
      "100%|███████████████████████████████████████████| 3/3 [00:00<00:00, 2082.23it/s]\n",
      "100%|███████████████████████████████████████████| 4/4 [00:00<00:00, 2967.84it/s]\n",
      "100%|███████████████████████████████████████████| 5/5 [00:00<00:00, 3015.32it/s]\n",
      "100%|███████████████████████████████████████████| 4/4 [00:00<00:00, 2654.20it/s]\n",
      "100%|███████████████████████████████████████████| 4/4 [00:00<00:00, 2302.98it/s]\n",
      "100%|████████████████████████████████████████████| 4/4 [00:00<00:00, 616.72it/s]\n",
      "100%|███████████████████████████████████████████| 4/4 [00:00<00:00, 2915.24it/s]\n",
      "100%|███████████████████████████████████████████| 4/4 [00:00<00:00, 2271.18it/s]\n",
      "100%|███████████████████████████████████████████| 3/3 [00:00<00:00, 2331.46it/s]\n",
      "100%|███████████████████████████████████████████| 5/5 [00:00<00:00, 3144.63it/s]\n",
      "100%|███████████████████████████████████████████| 4/4 [00:00<00:00, 3251.40it/s]\n",
      "100%|███████████████████████████████████████████| 4/4 [00:00<00:00, 2689.95it/s]\n",
      "100%|███████████████████████████████████████████| 5/5 [00:00<00:00, 2590.68it/s]\n",
      "100%|███████████████████████████████████████████| 5/5 [00:00<00:00, 2475.10it/s]\n",
      "100%|███████████████████████████████████████████| 4/4 [00:00<00:00, 2232.20it/s]\n",
      "100%|███████████████████████████████████████████| 4/4 [00:00<00:00, 2354.37it/s]\n",
      "100%|███████████████████████████████████████████| 4/4 [00:00<00:00, 3137.69it/s]\n",
      "100%|███████████████████████████████████████████| 4/4 [00:00<00:00, 3122.50it/s]\n",
      "100%|███████████████████████████████████████████| 4/4 [00:00<00:00, 2383.47it/s]\n",
      "100%|███████████████████████████████████████████| 6/6 [00:00<00:00, 3289.22it/s]\n",
      "100%|███████████████████████████████████████████| 4/4 [00:00<00:00, 2176.32it/s]\n",
      "100%|███████████████████████████████████████████| 4/4 [00:00<00:00, 2945.44it/s]\n",
      "100%|███████████████████████████████████████████| 6/6 [00:00<00:00, 2509.31it/s]\n",
      "100%|███████████████████████████████████████████| 4/4 [00:00<00:00, 2965.22it/s]\n",
      "100%|███████████████████████████████████████████| 5/5 [00:00<00:00, 2935.95it/s]\n",
      "100%|███████████████████████████████████████████| 5/5 [00:00<00:00, 3211.57it/s]\n",
      "100%|███████████████████████████████████████████| 4/4 [00:00<00:00, 2300.14it/s]\n",
      "100%|███████████████████████████████████████████| 4/4 [00:00<00:00, 2336.33it/s]\n",
      "100%|███████████████████████████████████████████| 5/5 [00:00<00:00, 2451.09it/s]\n",
      "100%|███████████████████████████████████████████| 5/5 [00:00<00:00, 3019.22it/s]\n",
      "100%|███████████████████████████████████████████| 5/5 [00:00<00:00, 3094.06it/s]\n",
      "100%|███████████████████████████████████████████| 4/4 [00:00<00:00, 2983.15it/s]\n",
      "100%|███████████████████████████████████████████| 5/5 [00:00<00:00, 3063.77it/s]\n",
      "100%|███████████████████████████████████████████| 5/5 [00:00<00:00, 2564.07it/s]\n",
      "100%|███████████████████████████████████████████| 6/6 [00:00<00:00, 2995.22it/s]\n",
      "100%|███████████████████████████████████████████| 5/5 [00:00<00:00, 2973.00it/s]\n",
      "100%|███████████████████████████████████████████| 7/7 [00:00<00:00, 3298.52it/s]\n",
      "100%|███████████████████████████████████████████| 5/5 [00:00<00:00, 3027.94it/s]\n",
      "100%|█████████████████████████████████████| 8941/8941 [00:04<00:00, 1801.08it/s]\n"
     ]
    }
   ],
   "source": [
    "vest_base = do_smart_repair(vest_base, min_rook_length = 30)"
   ]
  },
  {
   "cell_type": "code",
   "execution_count": 31,
   "metadata": {},
   "outputs": [
    {
     "name": "stderr",
     "output_type": "stream",
     "text": [
      "100%|█████████████████████████████████████| 8941/8941 [00:04<00:00, 1804.04it/s]\n"
     ]
    },
    {
     "data": {
      "text/plain": [
       "True"
      ]
     },
     "execution_count": 31,
     "metadata": {},
     "output_type": "execute_result"
    }
   ],
   "source": [
    "maup.doctor(vest_base)"
   ]
  },
  {
   "cell_type": "code",
   "execution_count": 32,
   "metadata": {},
   "outputs": [
    {
     "name": "stderr",
     "output_type": "stream",
     "text": [
      "100%|█████████████████████████████████████| 8941/8941 [00:06<00:00, 1458.45it/s]\n",
      "100%|██████████████████████████████████████| 8941/8941 [00:21<00:00, 409.50it/s]\n"
     ]
    }
   ],
   "source": [
    "# vap and population have the same GEOID20\n",
    "blocks_to_precincts_assignment = maup.assign(population_df.geometry, vest_base.geometry)"
   ]
  },
  {
   "cell_type": "code",
   "execution_count": 33,
   "metadata": {},
   "outputs": [],
   "source": [
    "vest_base[pop_col] = population_df[pop_col].groupby(blocks_to_precincts_assignment).sum()"
   ]
  },
  {
   "cell_type": "code",
   "execution_count": 34,
   "metadata": {},
   "outputs": [],
   "source": [
    "election_df = gpd.GeoDataFrame(vest_base)"
   ]
  },
  {
   "cell_type": "code",
   "execution_count": 35,
   "metadata": {},
   "outputs": [
    {
     "data": {
      "text/plain": [
       "Index(['COUNTYFP20', 'GEOID20', 'NAME20', 'PRE20D', 'PRE20O', 'PRE20R',\n",
       "       'PRECINCT20', 'STATEFP20', 'VTDST20', 'geometry', 'TOTPOP', 'HISP',\n",
       "       'NH_WHITE', 'NH_BLACK', 'NH_AMIN', 'NH_ASIAN', 'NH_NHPI', 'NH_OTHER',\n",
       "       'NH_2MORE', 'H_WHITE', 'H_BLACK', 'H_AMIN', 'H_ASIAN', 'H_NHPI',\n",
       "       'H_OTHER', 'H_2MORE', 'VAP', 'HVAP', 'WVAP', 'BVAP', 'AMINVAP',\n",
       "       'ASIANVAP', 'NHPIVAP', 'OTHERVAP', '2MOREVAP'],\n",
       "      dtype='object')"
      ]
     },
     "execution_count": 35,
     "metadata": {},
     "output_type": "execute_result"
    }
   ],
   "source": [
    "election_df.columns"
   ]
  },
  {
   "cell_type": "markdown",
   "metadata": {},
   "source": [
    "## Check if population agrees"
   ]
  },
  {
   "cell_type": "code",
   "execution_count": 37,
   "metadata": {},
   "outputs": [
    {
     "name": "stdout",
     "output_type": "stream",
     "text": [
      "population agrees\n"
     ]
    }
   ],
   "source": [
    "check_population(population_df, vest_base)"
   ]
  },
  {
   "cell_type": "markdown",
   "metadata": {},
   "source": [
    "## Add more vest data"
   ]
  },
  {
   "cell_type": "code",
   "execution_count": 39,
   "metadata": {},
   "outputs": [],
   "source": [
    "vest18 = gpd.read_file(vest18_data)\n",
    "vest16 = gpd.read_file(vest16_data)"
   ]
  },
  {
   "cell_type": "code",
   "execution_count": 40,
   "metadata": {},
   "outputs": [
    {
     "data": {
      "text/plain": [
       "Index(['STATEFP18', 'COUNTYFP18', 'VTDST18', 'PRECINCT18', 'GEOID18', 'NAME18',\n",
       "       'G18USSRREN', 'G18USSDBRO', 'G18GOVRDEW', 'G18GOVDCOR', 'G18GOVLIRV',\n",
       "       'G18GOVGGAD', 'G18ATGRYOS', 'G18ATGDDET', 'G18AUDRFAB', 'G18AUDDSPA',\n",
       "       'G18AUDLCOO', 'G18SOSRLAR', 'G18SOSDCLY', 'G18SOSLNAN', 'G18TRERSPR',\n",
       "       'G18TREDRIC', 'geometry'],\n",
       "      dtype='object')"
      ]
     },
     "execution_count": 40,
     "metadata": {},
     "output_type": "execute_result"
    }
   ],
   "source": [
    "vest18.columns"
   ]
  },
  {
   "cell_type": "code",
   "execution_count": 41,
   "metadata": {},
   "outputs": [
    {
     "data": {
      "text/plain": [
       "Index(['STATEFP16', 'COUNTYFP16', 'VTDST16', 'PRECINCT16', 'GEOID16', 'NAME16',\n",
       "       'G16PRERTRU', 'G16PREDCLI', 'G16PRELJOH', 'G16PREGSTE', 'G16PREIDUN',\n",
       "       'G16USSRPOR', 'G16USSDSTR', 'G16USSGDEM', 'G16USSICON', 'G16USSIRUP',\n",
       "       'geometry'],\n",
       "      dtype='object')"
      ]
     },
     "execution_count": 41,
     "metadata": {},
     "output_type": "execute_result"
    }
   ],
   "source": [
    "vest16.columns"
   ]
  },
  {
   "cell_type": "code",
   "execution_count": 42,
   "metadata": {},
   "outputs": [
    {
     "name": "stderr",
     "output_type": "stream",
     "text": [
      "100%|█████████████████████████████████████| 8912/8912 [00:04<00:00, 1882.84it/s]\n"
     ]
    },
    {
     "name": "stdout",
     "output_type": "stream",
     "text": [
      "There are 9 overlaps.\n",
      "There are 5 holes.\n",
      "There are some invalid geometries.\n",
      "Snapping all geometries to a grid with precision 10^( -5 ) to avoid GEOS errors.\n",
      "Identifying overlaps...\n"
     ]
    },
    {
     "name": "stderr",
     "output_type": "stream",
     "text": [
      "100%|███████████████████████████████████| 10770/10770 [00:02<00:00, 3912.81it/s]\n"
     ]
    },
    {
     "name": "stdout",
     "output_type": "stream",
     "text": [
      "Resolving overlaps...\n",
      "Assigning order 2 pieces...\n",
      "Filling gaps...\n"
     ]
    },
    {
     "name": "stderr",
     "output_type": "stream",
     "text": [
      "Gaps to simplify: 100%|███████████████████████████| 6/6 [00:09<00:00,  1.59s/it]\n",
      "Gaps to fill: 100%|███████████████████████████████| 3/3 [00:04<00:00,  1.58s/it]\n",
      "100%|█████████████████████████████████████| 8912/8912 [00:04<00:00, 1867.67it/s]\n",
      "100%|█████████████████████████████████████| 8912/8912 [00:06<00:00, 1426.74it/s]\n",
      "100%|██████████████████████████████████████| 8912/8912 [00:21<00:00, 407.01it/s]\n",
      "100%|█████████████████████████████████████| 8941/8941 [00:05<00:00, 1658.21it/s]\n",
      "100%|██████████████████████████████████████| 8941/8941 [00:21<00:00, 410.40it/s]\n"
     ]
    },
    {
     "name": "stdout",
     "output_type": "stream",
     "text": [
      "population agrees\n"
     ]
    }
   ],
   "source": [
    "# check the result here\n",
    "election_df = add_vest(vest18, election_df, '18', population_df, start_col)"
   ]
  },
  {
   "cell_type": "code",
   "execution_count": 43,
   "metadata": {},
   "outputs": [
    {
     "data": {
      "text/plain": [
       "Index(['2MOREVAP', 'AMINVAP', 'ASIANVAP', 'ATG18D', 'ATG18R', 'AUD18D',\n",
       "       'AUD18O', 'AUD18R', 'BVAP', 'COUNTYFP20', 'GEOID20', 'GOV18D', 'GOV18O',\n",
       "       'GOV18R', 'HISP', 'HVAP', 'H_2MORE', 'H_AMIN', 'H_ASIAN', 'H_BLACK',\n",
       "       'H_NHPI', 'H_OTHER', 'H_WHITE', 'NAME20', 'NHPIVAP', 'NH_2MORE',\n",
       "       'NH_AMIN', 'NH_ASIAN', 'NH_BLACK', 'NH_NHPI', 'NH_OTHER', 'NH_WHITE',\n",
       "       'OTHERVAP', 'PRE20D', 'PRE20O', 'PRE20R', 'PRECINCT20', 'SOS18D',\n",
       "       'SOS18O', 'SOS18R', 'STATEFP20', 'TOTPOP', 'TRE18D', 'TRE18R', 'USS18D',\n",
       "       'USS18R', 'VAP', 'VTDST20', 'WVAP', 'geometry'],\n",
       "      dtype='object')"
      ]
     },
     "execution_count": 43,
     "metadata": {},
     "output_type": "execute_result"
    }
   ],
   "source": [
    "election_df.columns"
   ]
  },
  {
   "cell_type": "code",
   "execution_count": 44,
   "metadata": {},
   "outputs": [
    {
     "name": "stderr",
     "output_type": "stream",
     "text": [
      "100%|█████████████████████████████████████| 8895/8895 [00:04<00:00, 1857.91it/s]\n"
     ]
    },
    {
     "name": "stdout",
     "output_type": "stream",
     "text": [
      "There are 18 overlaps.\n",
      "There are 10 holes.\n",
      "There are some invalid geometries.\n",
      "Snapping all geometries to a grid with precision 10^( -5 ) to avoid GEOS errors.\n",
      "Identifying overlaps...\n"
     ]
    },
    {
     "name": "stderr",
     "output_type": "stream",
     "text": [
      "100%|███████████████████████████████████| 10749/10749 [00:02<00:00, 3786.53it/s]\n"
     ]
    },
    {
     "name": "stdout",
     "output_type": "stream",
     "text": [
      "Resolving overlaps...\n",
      "Assigning order 2 pieces...\n",
      "Assigning order 3 pieces...\n",
      "Filling gaps...\n"
     ]
    },
    {
     "name": "stderr",
     "output_type": "stream",
     "text": [
      "Gaps to simplify: 100%|███████████████████████████| 6/6 [00:09<00:00,  1.59s/it]\n",
      "Gaps to fill: 100%|███████████████████████████████| 5/5 [00:07<00:00,  1.58s/it]\n",
      "100%|█████████████████████████████████████| 8895/8895 [00:04<00:00, 1885.93it/s]\n",
      "100%|█████████████████████████████████████| 8895/8895 [00:05<00:00, 1537.04it/s]\n",
      "100%|██████████████████████████████████████| 8895/8895 [00:21<00:00, 411.48it/s]\n",
      "100%|█████████████████████████████████████| 8941/8941 [00:05<00:00, 1584.88it/s]\n",
      "100%|██████████████████████████████████████| 8941/8941 [00:22<00:00, 399.38it/s]\n"
     ]
    },
    {
     "name": "stdout",
     "output_type": "stream",
     "text": [
      "population agrees\n"
     ]
    }
   ],
   "source": [
    "election_df = add_vest(vest16, election_df, '16', population_df, start_col)"
   ]
  },
  {
   "cell_type": "markdown",
   "metadata": {},
   "source": [
    "##  Add the district data"
   ]
  },
  {
   "cell_type": "code",
   "execution_count": 46,
   "metadata": {},
   "outputs": [],
   "source": [
    "cong_df = gpd.read_file(cd_data)\n",
    "cong_df = cong_df.to_crs(cong_df.estimate_utm_crs())\n",
    "send = gpd.read_file(send_data)\n",
    "send = send.to_crs(send.estimate_utm_crs())\n",
    "hdist = gpd.read_file(hdist_data)\n",
    "hdist = hdist.to_crs(hdist.estimate_utm_crs())"
   ]
  },
  {
   "cell_type": "code",
   "execution_count": 47,
   "metadata": {},
   "outputs": [
    {
     "data": {
      "text/html": [
       "<div>\n",
       "<style scoped>\n",
       "    .dataframe tbody tr th:only-of-type {\n",
       "        vertical-align: middle;\n",
       "    }\n",
       "\n",
       "    .dataframe tbody tr th {\n",
       "        vertical-align: top;\n",
       "    }\n",
       "\n",
       "    .dataframe thead th {\n",
       "        text-align: right;\n",
       "    }\n",
       "</style>\n",
       "<table border=\"1\" class=\"dataframe\">\n",
       "  <thead>\n",
       "    <tr style=\"text-align: right;\">\n",
       "      <th></th>\n",
       "      <th>CONG_DIST</th>\n",
       "      <th>geometry</th>\n",
       "    </tr>\n",
       "  </thead>\n",
       "  <tbody>\n",
       "    <tr>\n",
       "      <th>0</th>\n",
       "      <td>01</td>\n",
       "      <td>POLYGON ((188171.894 4331137.533, 188043.149 4...</td>\n",
       "    </tr>\n",
       "    <tr>\n",
       "      <th>1</th>\n",
       "      <td>02</td>\n",
       "      <td>POLYGON ((365190.301 4251731.709, 365180.532 4...</td>\n",
       "    </tr>\n",
       "    <tr>\n",
       "      <th>2</th>\n",
       "      <td>03</td>\n",
       "      <td>POLYGON ((332559.451 4418641.987, 332500.782 4...</td>\n",
       "    </tr>\n",
       "    <tr>\n",
       "      <th>3</th>\n",
       "      <td>04</td>\n",
       "      <td>POLYGON ((285719.386 4435632.989, 285699.711 4...</td>\n",
       "    </tr>\n",
       "    <tr>\n",
       "      <th>4</th>\n",
       "      <td>05</td>\n",
       "      <td>POLYGON ((190558.041 4473180.502, 190524.827 4...</td>\n",
       "    </tr>\n",
       "  </tbody>\n",
       "</table>\n",
       "</div>"
      ],
      "text/plain": [
       "  CONG_DIST                                           geometry\n",
       "0        01  POLYGON ((188171.894 4331137.533, 188043.149 4...\n",
       "1        02  POLYGON ((365190.301 4251731.709, 365180.532 4...\n",
       "2        03  POLYGON ((332559.451 4418641.987, 332500.782 4...\n",
       "3        04  POLYGON ((285719.386 4435632.989, 285699.711 4...\n",
       "4        05  POLYGON ((190558.041 4473180.502, 190524.827 4..."
      ]
     },
     "execution_count": 47,
     "metadata": {},
     "output_type": "execute_result"
    }
   ],
   "source": [
    "cong_df.head()"
   ]
  },
  {
   "cell_type": "code",
   "execution_count": 48,
   "metadata": {},
   "outputs": [
    {
     "name": "stderr",
     "output_type": "stream",
     "text": [
      "100%|██████████████████████████████████████████| 15/15 [00:00<00:00, 160.80it/s]\n",
      "100%|███████████████████████████████████████████| 15/15 [00:00<00:00, 93.72it/s]\n",
      "100%|███████████████████████████████████████████| 15/15 [00:00<00:00, 18.31it/s]\n"
     ]
    }
   ],
   "source": [
    "election_df = add_district(cong_df, \"CD\", election_df, \"CONG_DIST\")"
   ]
  },
  {
   "cell_type": "code",
   "execution_count": 49,
   "metadata": {},
   "outputs": [
    {
     "data": {
      "text/html": [
       "<div>\n",
       "<style scoped>\n",
       "    .dataframe tbody tr th:only-of-type {\n",
       "        vertical-align: middle;\n",
       "    }\n",
       "\n",
       "    .dataframe tbody tr th {\n",
       "        vertical-align: top;\n",
       "    }\n",
       "\n",
       "    .dataframe thead th {\n",
       "        text-align: right;\n",
       "    }\n",
       "</style>\n",
       "<table border=\"1\" class=\"dataframe\">\n",
       "  <thead>\n",
       "    <tr style=\"text-align: right;\">\n",
       "      <th></th>\n",
       "      <th>DISTRICT</th>\n",
       "      <th>geometry</th>\n",
       "    </tr>\n",
       "  </thead>\n",
       "  <tbody>\n",
       "    <tr>\n",
       "      <th>0</th>\n",
       "      <td>1</td>\n",
       "      <td>POLYGON ((255853.744 4471777.861, 255655.347 4...</td>\n",
       "    </tr>\n",
       "    <tr>\n",
       "      <th>1</th>\n",
       "      <td>10</td>\n",
       "      <td>POLYGON ((251597.993 4348250.591, 251105.307 4...</td>\n",
       "    </tr>\n",
       "    <tr>\n",
       "      <th>2</th>\n",
       "      <td>11</td>\n",
       "      <td>POLYGON ((300112.547 4623995.973, 300620.986 4...</td>\n",
       "    </tr>\n",
       "    <tr>\n",
       "      <th>3</th>\n",
       "      <td>12</td>\n",
       "      <td>POLYGON ((255598.869 4435066.433, 255564.047 4...</td>\n",
       "    </tr>\n",
       "    <tr>\n",
       "      <th>4</th>\n",
       "      <td>13</td>\n",
       "      <td>POLYGON ((422912.151 4569736.078, 422909.638 4...</td>\n",
       "    </tr>\n",
       "  </tbody>\n",
       "</table>\n",
       "</div>"
      ],
      "text/plain": [
       "  DISTRICT                                           geometry\n",
       "0        1  POLYGON ((255853.744 4471777.861, 255655.347 4...\n",
       "1       10  POLYGON ((251597.993 4348250.591, 251105.307 4...\n",
       "2       11  POLYGON ((300112.547 4623995.973, 300620.986 4...\n",
       "3       12  POLYGON ((255598.869 4435066.433, 255564.047 4...\n",
       "4       13  POLYGON ((422912.151 4569736.078, 422909.638 4..."
      ]
     },
     "execution_count": 49,
     "metadata": {},
     "output_type": "execute_result"
    }
   ],
   "source": [
    "send.head()"
   ]
  },
  {
   "cell_type": "code",
   "execution_count": 50,
   "metadata": {},
   "outputs": [
    {
     "name": "stderr",
     "output_type": "stream",
     "text": [
      "100%|██████████████████████████████████████████| 33/33 [00:00<00:00, 230.09it/s]\n",
      "100%|██████████████████████████████████████████| 33/33 [00:00<00:00, 229.05it/s]\n",
      "100%|███████████████████████████████████████████| 33/33 [00:01<00:00, 30.21it/s]\n"
     ]
    }
   ],
   "source": [
    "election_df = add_district(send, \"SEND\", election_df, \"DISTRICT\")"
   ]
  },
  {
   "cell_type": "code",
   "execution_count": 51,
   "metadata": {},
   "outputs": [
    {
     "data": {
      "text/html": [
       "<div>\n",
       "<style scoped>\n",
       "    .dataframe tbody tr th:only-of-type {\n",
       "        vertical-align: middle;\n",
       "    }\n",
       "\n",
       "    .dataframe tbody tr th {\n",
       "        vertical-align: top;\n",
       "    }\n",
       "\n",
       "    .dataframe thead th {\n",
       "        text-align: right;\n",
       "    }\n",
       "</style>\n",
       "<table border=\"1\" class=\"dataframe\">\n",
       "  <thead>\n",
       "    <tr style=\"text-align: right;\">\n",
       "      <th></th>\n",
       "      <th>DISTRICT</th>\n",
       "      <th>geometry</th>\n",
       "    </tr>\n",
       "  </thead>\n",
       "  <tbody>\n",
       "    <tr>\n",
       "      <th>0</th>\n",
       "      <td>1</td>\n",
       "      <td>POLYGON ((337347.847 4425872.988, 337323.928 4...</td>\n",
       "    </tr>\n",
       "    <tr>\n",
       "      <th>1</th>\n",
       "      <td>10</td>\n",
       "      <td>POLYGON ((315762.930 4416961.339, 315754.884 4...</td>\n",
       "    </tr>\n",
       "    <tr>\n",
       "      <th>2</th>\n",
       "      <td>11</td>\n",
       "      <td>POLYGON ((308946.146 4426437.572, 308926.515 4...</td>\n",
       "    </tr>\n",
       "    <tr>\n",
       "      <th>3</th>\n",
       "      <td>12</td>\n",
       "      <td>POLYGON ((339875.589 4406945.355, 339890.727 4...</td>\n",
       "    </tr>\n",
       "    <tr>\n",
       "      <th>4</th>\n",
       "      <td>13</td>\n",
       "      <td>POLYGON ((432693.330 4594531.903, 433027.165 4...</td>\n",
       "    </tr>\n",
       "  </tbody>\n",
       "</table>\n",
       "</div>"
      ],
      "text/plain": [
       "  DISTRICT                                           geometry\n",
       "0        1  POLYGON ((337347.847 4425872.988, 337323.928 4...\n",
       "1       10  POLYGON ((315762.930 4416961.339, 315754.884 4...\n",
       "2       11  POLYGON ((308946.146 4426437.572, 308926.515 4...\n",
       "3       12  POLYGON ((339875.589 4406945.355, 339890.727 4...\n",
       "4       13  POLYGON ((432693.330 4594531.903, 433027.165 4..."
      ]
     },
     "execution_count": 51,
     "metadata": {},
     "output_type": "execute_result"
    }
   ],
   "source": [
    "hdist.head()"
   ]
  },
  {
   "cell_type": "code",
   "execution_count": 52,
   "metadata": {},
   "outputs": [
    {
     "name": "stderr",
     "output_type": "stream",
     "text": [
      "100%|██████████████████████████████████████████| 99/99 [00:00<00:00, 335.86it/s]\n",
      "100%|██████████████████████████████████████████| 99/99 [00:00<00:00, 533.61it/s]\n",
      "100%|███████████████████████████████████████████| 99/99 [00:01<00:00, 59.12it/s]\n"
     ]
    }
   ],
   "source": [
    "election_df = add_district(hdist, \"HDIST\", election_df, \"DISTRICT\")"
   ]
  },
  {
   "cell_type": "code",
   "execution_count": 53,
   "metadata": {},
   "outputs": [
    {
     "data": {
      "text/plain": [
       "Index(['2MOREVAP', 'AMINVAP', 'ASIANVAP', 'ATG18D', 'ATG18R', 'AUD18D',\n",
       "       'AUD18O', 'AUD18R', 'BVAP', 'COUNTYFP20', 'GEOID20', 'GOV18D', 'GOV18O',\n",
       "       'GOV18R', 'HISP', 'HVAP', 'H_2MORE', 'H_AMIN', 'H_ASIAN', 'H_BLACK',\n",
       "       'H_NHPI', 'H_OTHER', 'H_WHITE', 'NAME20', 'NHPIVAP', 'NH_2MORE',\n",
       "       'NH_AMIN', 'NH_ASIAN', 'NH_BLACK', 'NH_NHPI', 'NH_OTHER', 'NH_WHITE',\n",
       "       'OTHERVAP', 'PRE16D', 'PRE16O', 'PRE16R', 'PRE20D', 'PRE20O', 'PRE20R',\n",
       "       'PRECINCT20', 'SOS18D', 'SOS18O', 'SOS18R', 'STATEFP20', 'TOTPOP',\n",
       "       'TRE18D', 'TRE18R', 'USS16D', 'USS16O', 'USS16R', 'USS18D', 'USS18R',\n",
       "       'VAP', 'VTDST20', 'WVAP', 'geometry', 'CD', 'SEND', 'HDIST'],\n",
       "      dtype='object')"
      ]
     },
     "execution_count": 53,
     "metadata": {},
     "output_type": "execute_result"
    }
   ],
   "source": [
    "election_df.columns"
   ]
  },
  {
   "cell_type": "markdown",
   "metadata": {},
   "source": [
    "### Put the base precinct year after the precinct information column"
   ]
  },
  {
   "cell_type": "code",
   "execution_count": 55,
   "metadata": {},
   "outputs": [],
   "source": [
    "base_columns = {}\n",
    "if 'COUNTYFP' + year not in election_df.columns:\n",
    "    base_columns = {\n",
    "        'STATEFP':'STATEFP'+year,\n",
    "        'COUNTYFP':'COUNTYFP'+year,\n",
    "        'VTDST':'VTDST'+year,\n",
    "        'PRECINCT':'PRECINCT'+year,\n",
    "        'GEOID':'GEOID'+year,\n",
    "        'NAME':'NAME'+year}\n",
    "election_df.rename(columns=base_columns, inplace = True)"
   ]
  },
  {
   "cell_type": "code",
   "execution_count": 56,
   "metadata": {},
   "outputs": [
    {
     "data": {
      "text/plain": [
       "Index(['2MOREVAP', 'AMINVAP', 'ASIANVAP', 'ATG18D', 'ATG18R', 'AUD18D',\n",
       "       'AUD18O', 'AUD18R', 'BVAP', 'COUNTYFP20', 'GEOID20', 'GOV18D', 'GOV18O',\n",
       "       'GOV18R', 'HISP', 'HVAP', 'H_2MORE', 'H_AMIN', 'H_ASIAN', 'H_BLACK',\n",
       "       'H_NHPI', 'H_OTHER', 'H_WHITE', 'NAME20', 'NHPIVAP', 'NH_2MORE',\n",
       "       'NH_AMIN', 'NH_ASIAN', 'NH_BLACK', 'NH_NHPI', 'NH_OTHER', 'NH_WHITE',\n",
       "       'OTHERVAP', 'PRE16D', 'PRE16O', 'PRE16R', 'PRE20D', 'PRE20O', 'PRE20R',\n",
       "       'PRECINCT20', 'SOS18D', 'SOS18O', 'SOS18R', 'STATEFP20', 'TOTPOP',\n",
       "       'TRE18D', 'TRE18R', 'USS16D', 'USS16O', 'USS16R', 'USS18D', 'USS18R',\n",
       "       'VAP', 'VTDST20', 'WVAP', 'geometry', 'CD', 'SEND', 'HDIST'],\n",
       "      dtype='object')"
      ]
     },
     "execution_count": 56,
     "metadata": {},
     "output_type": "execute_result"
    }
   ],
   "source": [
    "election_df.columns"
   ]
  },
  {
   "cell_type": "code",
   "execution_count": 57,
   "metadata": {},
   "outputs": [],
   "source": [
    "# reorder the columns\n",
    "fixed_columns = [\n",
    "    'STATEFP'+year,\n",
    "    'COUNTYFP'+year,\n",
    "    'VTDST'+year,\n",
    "    'PRECINCT'+year,\n",
    "    'GEOID'+year,\n",
    "    'NAME'+year,\n",
    "    'CD',\n",
    "    'SEND',\n",
    "    'HDIST',\n",
    "    'TOTPOP',\n",
    "    'NH_2MORE',\n",
    "    'NH_AMIN',\n",
    "    'NH_ASIAN',\n",
    "    'NH_BLACK',\n",
    "    'NH_NHPI',\n",
    "    'NH_OTHER',\n",
    "    'NH_WHITE',\n",
    "    'HISP',\n",
    "    'H_AMIN',\n",
    "    'H_ASIAN',\n",
    "    'H_BLACK',\n",
    "    'H_NHPI',\n",
    "    'H_OTHER',\n",
    "    'H_WHITE',\n",
    "    'H_2MORE',\n",
    "    'VAP',\n",
    "    'HVAP',\n",
    "    'WVAP',\n",
    "    'BVAP',\n",
    "    'AMINVAP',\n",
    "    'ASIANVAP',\n",
    "    'NHPIVAP',\n",
    "    'OTHERVAP',\n",
    "    '2MOREVAP']\n",
    "\n",
    "election_columns = [col for col in election_df.columns if col not in fixed_columns]\n",
    "final_col = fixed_columns + election_columns\n",
    "election_df = election_df[final_col]"
   ]
  },
  {
   "cell_type": "code",
   "execution_count": 58,
   "metadata": {},
   "outputs": [],
   "source": [
    "import os\n",
    "\n",
    "# store the result in directory \"il\"\n",
    "directory = \"./{}\".format(state_ab)\n",
    "if not os.path.exists(directory):\n",
    "    os.makedirs(directory)\n",
    "\n",
    "shapefile_path = \"./{}/{}.shp\".format(state_ab, state_ab)\n",
    "geojson_path = './{}/{}.geojson'.format(state_ab, state_ab)\n",
    "json_path = \"./{}.json\".format(state_ab, state_ab)\n",
    "\n",
    "# Check if the shapefile or geojson file already exists\n",
    "if os.path.exists(shapefile_path):\n",
    "    os.remove(shapefile_path)\n",
    "if os.path.exists(geojson_path):\n",
    "    os.remove(geojson_path)\n",
    "\n",
    "election_df.to_file(shapefile_path)\n",
    "election_df.to_file(geojson_path, driver='GeoJSON')\n",
    "\n",
    "# Only do once to build json and read from file when generating ensembles\n",
    "graph = Graph.from_file(shapefile_path, ignore_errors=True)\n",
    "graph.to_json(json_path)"
   ]
  },
  {
   "cell_type": "code",
   "execution_count": 59,
   "metadata": {},
   "outputs": [
    {
     "data": {
      "text/plain": [
       "<Axes: >"
      ]
     },
     "execution_count": 59,
     "metadata": {},
     "output_type": "execute_result"
    },
    {
     "data": {
      "image/png": "[encoded data removed]",
      "text/plain": [
       "<Figure size 640x480 with 1 Axes>"
      ]
     },
     "metadata": {},
     "output_type": "display_data"
    }
   ],
   "source": [
    "shapefile_path = \"./{}/{}.shp\".format(state_ab, state_ab)\n",
    "shape=gpd.read_file(shapefile_path)\n",
    "shape.plot()"
   ]
  }
 ],
 "metadata": {
  "kernelspec": {
   "display_name": "gerry",
   "language": "python",
   "name": "gerry"
  },
  "language_info": {
   "codemirror_mode": {
    "name": "ipython",
    "version": 3
   },
   "file_extension": ".py",
   "mimetype": "text/x-python",
   "name": "python",
   "nbconvert_exporter": "python",
   "pygments_lexer": "ipython3",
   "version": "3.11.4"
  }
 },
 "nbformat": 4,
 "nbformat_minor": 4
}
